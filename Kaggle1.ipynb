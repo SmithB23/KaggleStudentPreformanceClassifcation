{
 "cells": [
  {
   "cell_type": "code",
   "execution_count": 59,
   "id": "691f7e42-7f6a-4fd3-a285-367e6f54002f",
   "metadata": {},
   "outputs": [
    {
     "name": "stdout",
     "output_type": "stream",
     "text": [
      "Defaulting to user installation because normal site-packages is not writeable\n",
      "Requirement already satisfied: scikit-learn in ./.local/lib/python3.10/site-packages (1.5.2)\n",
      "Requirement already satisfied: threadpoolctl>=3.1.0 in ./.local/lib/python3.10/site-packages (from scikit-learn) (3.5.0)\n",
      "Requirement already satisfied: joblib>=1.2.0 in ./.local/lib/python3.10/site-packages (from scikit-learn) (1.4.2)\n",
      "Requirement already satisfied: scipy>=1.6.0 in ./.local/lib/python3.10/site-packages (from scikit-learn) (1.14.1)\n",
      "Requirement already satisfied: numpy>=1.19.5 in ./.local/lib/python3.10/site-packages (from scikit-learn) (2.0.2)\n"
     ]
    }
   ],
   "source": [
    "!pip install scikit-learn"
   ]
  },
  {
   "cell_type": "code",
   "execution_count": 1,
   "id": "1bdce676-ebc0-4978-9573-aa75e449a8ca",
   "metadata": {},
   "outputs": [
    {
     "name": "stdout",
     "output_type": "stream",
     "text": [
      "Defaulting to user installation because normal site-packages is not writeable\n",
      "Requirement already satisfied: seaborn in ./.local/lib/python3.10/site-packages (0.13.2)\n",
      "Requirement already satisfied: pandas>=1.2 in /usr/local/lib/python3.10/dist-packages (from seaborn) (2.2.2)\n",
      "Requirement already satisfied: matplotlib!=3.6.1,>=3.4 in /usr/local/lib/python3.10/dist-packages (from seaborn) (3.9.2)\n",
      "Requirement already satisfied: numpy!=1.24.0,>=1.20 in /usr/local/lib/python3.10/dist-packages (from seaborn) (2.1.0)\n",
      "Requirement already satisfied: pillow>=8 in /usr/local/lib/python3.10/dist-packages (from matplotlib!=3.6.1,>=3.4->seaborn) (10.4.0)\n",
      "Requirement already satisfied: contourpy>=1.0.1 in /usr/local/lib/python3.10/dist-packages (from matplotlib!=3.6.1,>=3.4->seaborn) (1.2.1)\n",
      "Requirement already satisfied: cycler>=0.10 in /usr/local/lib/python3.10/dist-packages (from matplotlib!=3.6.1,>=3.4->seaborn) (0.12.1)\n",
      "Requirement already satisfied: pyparsing>=2.3.1 in /usr/lib/python3/dist-packages (from matplotlib!=3.6.1,>=3.4->seaborn) (2.4.7)\n",
      "Requirement already satisfied: python-dateutil>=2.7 in /usr/local/lib/python3.10/dist-packages (from matplotlib!=3.6.1,>=3.4->seaborn) (2.9.0.post0)\n",
      "Requirement already satisfied: packaging>=20.0 in /usr/local/lib/python3.10/dist-packages (from matplotlib!=3.6.1,>=3.4->seaborn) (24.1)\n",
      "Requirement already satisfied: kiwisolver>=1.3.1 in /usr/local/lib/python3.10/dist-packages (from matplotlib!=3.6.1,>=3.4->seaborn) (1.4.5)\n",
      "Requirement already satisfied: fonttools>=4.22.0 in /usr/local/lib/python3.10/dist-packages (from matplotlib!=3.6.1,>=3.4->seaborn) (4.53.1)\n",
      "Requirement already satisfied: pytz>=2020.1 in /usr/local/lib/python3.10/dist-packages (from pandas>=1.2->seaborn) (2024.1)\n",
      "Requirement already satisfied: tzdata>=2022.7 in /usr/local/lib/python3.10/dist-packages (from pandas>=1.2->seaborn) (2024.1)\n",
      "Requirement already satisfied: six>=1.5 in /usr/lib/python3/dist-packages (from python-dateutil>=2.7->matplotlib!=3.6.1,>=3.4->seaborn) (1.16.0)\n"
     ]
    }
   ],
   "source": [
    "!pip install seaborn"
   ]
  },
  {
   "cell_type": "code",
   "execution_count": 43,
   "id": "258c5be3-882e-4439-968f-19cea73a5d33",
   "metadata": {},
   "outputs": [
    {
     "name": "stdout",
     "output_type": "stream",
     "text": [
      "Defaulting to user installation because normal site-packages is not writeable\n",
      "Collecting tensorflow\n",
      "  Downloading tensorflow-2.18.0-cp310-cp310-manylinux_2_17_x86_64.manylinux2014_x86_64.whl (615.3 MB)\n",
      "\u001b[2K     \u001b[90m━━━━━━━━━━━━━━━━━━━━━━━━━━━━━━━━━━━━━━━\u001b[0m \u001b[32m615.3/615.3 MB\u001b[0m \u001b[31m6.9 MB/s\u001b[0m eta \u001b[36m0:00:00\u001b[0m00:01\u001b[0m00:01\u001b[0m\n",
      "\u001b[?25hRequirement already satisfied: setuptools in /usr/lib/python3/dist-packages (from tensorflow) (59.6.0)\n",
      "Requirement already satisfied: packaging in /usr/local/lib/python3.10/dist-packages (from tensorflow) (24.1)\n",
      "Collecting ml-dtypes<0.5.0,>=0.4.0\n",
      "  Downloading ml_dtypes-0.4.1-cp310-cp310-manylinux_2_17_x86_64.manylinux2014_x86_64.whl (2.2 MB)\n",
      "\u001b[2K     \u001b[90m━━━━━━━━━━━━━━━━━━━━━━━━━━━━━━━━━━━━━━━━\u001b[0m \u001b[32m2.2/2.2 MB\u001b[0m \u001b[31m30.8 MB/s\u001b[0m eta \u001b[36m0:00:00\u001b[0m00:01\u001b[0m00:01\u001b[0m\n",
      "\u001b[?25hCollecting google-pasta>=0.1.1\n",
      "  Downloading google_pasta-0.2.0-py3-none-any.whl (57 kB)\n",
      "\u001b[2K     \u001b[90m━━━━━━━━━━━━━━━━━━━━━━━━━━━━━━━━━━━━━━━━\u001b[0m \u001b[32m57.5/57.5 KB\u001b[0m \u001b[31m9.0 MB/s\u001b[0m eta \u001b[36m0:00:00\u001b[0m\n",
      "\u001b[?25hCollecting astunparse>=1.6.0\n",
      "  Downloading astunparse-1.6.3-py2.py3-none-any.whl (12 kB)\n",
      "Collecting keras>=3.5.0\n",
      "  Downloading keras-3.7.0-py3-none-any.whl (1.2 MB)\n",
      "\u001b[2K     \u001b[90m━━━━━━━━━━━━━━━━━━━━━━━━━━━━━━━━━━━━━━━━\u001b[0m \u001b[32m1.2/1.2 MB\u001b[0m \u001b[31m29.8 MB/s\u001b[0m eta \u001b[36m0:00:00\u001b[0m00:01\u001b[0m\n",
      "\u001b[?25hRequirement already satisfied: typing-extensions>=3.6.6 in /usr/local/lib/python3.10/dist-packages (from tensorflow) (4.12.2)\n",
      "Collecting libclang>=13.0.0\n",
      "  Downloading libclang-18.1.1-py2.py3-none-manylinux2010_x86_64.whl (24.5 MB)\n",
      "\u001b[2K     \u001b[90m━━━━━━━━━━━━━━━━━━━━━━━━━━━━━━━━━━━━━━━━\u001b[0m \u001b[32m24.5/24.5 MB\u001b[0m \u001b[31m29.9 MB/s\u001b[0m eta \u001b[36m0:00:00\u001b[0m00:01\u001b[0m00:01\u001b[0m\n",
      "\u001b[?25hCollecting absl-py>=1.0.0\n",
      "  Downloading absl_py-2.1.0-py3-none-any.whl (133 kB)\n",
      "\u001b[2K     \u001b[90m━━━━━━━━━━━━━━━━━━━━━━━━━━━━━━━━━━━━━━━\u001b[0m \u001b[32m133.7/133.7 KB\u001b[0m \u001b[31m9.7 MB/s\u001b[0m eta \u001b[36m0:00:00\u001b[0m\n",
      "\u001b[?25hCollecting tensorflow-io-gcs-filesystem>=0.23.1\n",
      "  Downloading tensorflow_io_gcs_filesystem-0.37.1-cp310-cp310-manylinux_2_17_x86_64.manylinux2014_x86_64.whl (5.1 MB)\n",
      "\u001b[2K     \u001b[90m━━━━━━━━━━━━━━━━━━━━━━━━━━━━━━━━━━━━━━━━\u001b[0m \u001b[32m5.1/5.1 MB\u001b[0m \u001b[31m22.9 MB/s\u001b[0m eta \u001b[36m0:00:00\u001b[0m00:01\u001b[0m00:01\u001b[0m\n",
      "\u001b[?25hCollecting opt-einsum>=2.3.2\n",
      "  Downloading opt_einsum-3.4.0-py3-none-any.whl (71 kB)\n",
      "\u001b[2K     \u001b[90m━━━━━━━━━━━━━━━━━━━━━━━━━━━━━━━━━━━━━━━━\u001b[0m \u001b[32m71.9/71.9 KB\u001b[0m \u001b[31m4.6 MB/s\u001b[0m eta \u001b[36m0:00:00\u001b[0m\n",
      "\u001b[?25hCollecting numpy<2.1.0,>=1.26.0\n",
      "  Downloading numpy-2.0.2-cp310-cp310-manylinux_2_17_x86_64.manylinux2014_x86_64.whl (19.5 MB)\n",
      "\u001b[2K     \u001b[90m━━━━━━━━━━━━━━━━━━━━━━━━━━━━━━━━━━━━━━━━\u001b[0m \u001b[32m19.5/19.5 MB\u001b[0m \u001b[31m27.3 MB/s\u001b[0m eta \u001b[36m0:00:00\u001b[0m00:01\u001b[0m00:01\u001b[0m\n",
      "\u001b[?25hRequirement already satisfied: six>=1.12.0 in /usr/lib/python3/dist-packages (from tensorflow) (1.16.0)\n",
      "Collecting h5py>=3.11.0\n",
      "  Downloading h5py-3.12.1-cp310-cp310-manylinux_2_17_x86_64.manylinux2014_x86_64.whl (5.3 MB)\n",
      "\u001b[2K     \u001b[90m━━━━━━━━━━━━━━━━━━━━━━━━━━━━━━━━━━━━━━━━\u001b[0m \u001b[32m5.3/5.3 MB\u001b[0m \u001b[31m30.1 MB/s\u001b[0m eta \u001b[36m0:00:00\u001b[0m00:01\u001b[0m00:01\u001b[0m\n",
      "\u001b[?25hCollecting grpcio<2.0,>=1.24.3\n",
      "  Downloading grpcio-1.68.1-cp310-cp310-manylinux_2_17_x86_64.manylinux2014_x86_64.whl (5.9 MB)\n",
      "\u001b[2K     \u001b[90m━━━━━━━━━━━━━━━━━━━━━━━━━━━━━━━━━━━━━━━━\u001b[0m \u001b[32m5.9/5.9 MB\u001b[0m \u001b[31m16.6 MB/s\u001b[0m eta \u001b[36m0:00:00\u001b[0m00:01\u001b[0m00:01\u001b[0m\n",
      "\u001b[?25hCollecting termcolor>=1.1.0\n",
      "  Downloading termcolor-2.5.0-py3-none-any.whl (7.8 kB)\n",
      "Collecting tensorboard<2.19,>=2.18\n",
      "  Downloading tensorboard-2.18.0-py3-none-any.whl (5.5 MB)\n",
      "\u001b[2K     \u001b[90m━━━━━━━━━━━━━━━━━━━━━━━━━━━━━━━━━━━━━━━━\u001b[0m \u001b[32m5.5/5.5 MB\u001b[0m \u001b[31m16.2 MB/s\u001b[0m eta \u001b[36m0:00:00\u001b[0m00:01\u001b[0m00:01\u001b[0m\n",
      "\u001b[?25hRequirement already satisfied: requests<3,>=2.21.0 in /usr/local/lib/python3.10/dist-packages (from tensorflow) (2.32.3)\n",
      "Collecting gast!=0.5.0,!=0.5.1,!=0.5.2,>=0.2.1\n",
      "  Downloading gast-0.6.0-py3-none-any.whl (21 kB)\n",
      "Collecting protobuf!=4.21.0,!=4.21.1,!=4.21.2,!=4.21.3,!=4.21.4,!=4.21.5,<6.0.0dev,>=3.20.3\n",
      "  Downloading protobuf-5.29.1-cp38-abi3-manylinux2014_x86_64.whl (319 kB)\n",
      "\u001b[2K     \u001b[90m━━━━━━━━━━━━━━━━━━━━━━━━━━━━━━━━━━━━━━\u001b[0m \u001b[32m319.7/319.7 KB\u001b[0m \u001b[31m11.1 MB/s\u001b[0m eta \u001b[36m0:00:00\u001b[0m\n",
      "\u001b[?25hCollecting wrapt>=1.11.0\n",
      "  Downloading wrapt-1.17.0-cp310-cp310-manylinux_2_5_x86_64.manylinux1_x86_64.manylinux_2_17_x86_64.manylinux2014_x86_64.whl (82 kB)\n",
      "\u001b[2K     \u001b[90m━━━━━━━━━━━━━━━━━━━━━━━━━━━━━━━━━━━━━━━━\u001b[0m \u001b[32m82.7/82.7 KB\u001b[0m \u001b[31m4.7 MB/s\u001b[0m eta \u001b[36m0:00:00\u001b[0m\n",
      "\u001b[?25hCollecting flatbuffers>=24.3.25\n",
      "  Downloading flatbuffers-24.3.25-py2.py3-none-any.whl (26 kB)\n",
      "Requirement already satisfied: wheel<1.0,>=0.23.0 in /usr/lib/python3/dist-packages (from astunparse>=1.6.0->tensorflow) (0.37.1)\n",
      "Collecting rich\n",
      "  Downloading rich-13.9.4-py3-none-any.whl (242 kB)\n",
      "\u001b[2K     \u001b[90m━━━━━━━━━━━━━━━━━━━━━━━━━━━━━━━━━━━━━━\u001b[0m \u001b[32m242.4/242.4 KB\u001b[0m \u001b[31m13.6 MB/s\u001b[0m eta \u001b[36m0:00:00\u001b[0m\n",
      "\u001b[?25hCollecting namex\n",
      "  Downloading namex-0.0.8-py3-none-any.whl (5.8 kB)\n",
      "Collecting optree\n",
      "  Downloading optree-0.13.1-cp310-cp310-manylinux_2_17_x86_64.manylinux2014_x86_64.whl (381 kB)\n",
      "\u001b[2K     \u001b[90m━━━━━━━━━━━━━━━━━━━━━━━━━━━━━━━━━━━━━━\u001b[0m \u001b[32m381.3/381.3 KB\u001b[0m \u001b[31m18.3 MB/s\u001b[0m eta \u001b[36m0:00:00\u001b[0m\n",
      "\u001b[?25hRequirement already satisfied: charset-normalizer<4,>=2 in /usr/local/lib/python3.10/dist-packages (from requests<3,>=2.21.0->tensorflow) (3.3.2)\n",
      "Requirement already satisfied: idna<4,>=2.5 in /usr/local/lib/python3.10/dist-packages (from requests<3,>=2.21.0->tensorflow) (3.8)\n",
      "Requirement already satisfied: urllib3<3,>=1.21.1 in /usr/local/lib/python3.10/dist-packages (from requests<3,>=2.21.0->tensorflow) (2.2.2)\n",
      "Requirement already satisfied: certifi>=2017.4.17 in /usr/local/lib/python3.10/dist-packages (from requests<3,>=2.21.0->tensorflow) (2024.7.4)\n",
      "Collecting werkzeug>=1.0.1\n",
      "  Downloading werkzeug-3.1.3-py3-none-any.whl (224 kB)\n",
      "\u001b[2K     \u001b[90m━━━━━━━━━━━━━━━━━━━━━━━━━━━━━━━━━━━━━━\u001b[0m \u001b[32m224.5/224.5 KB\u001b[0m \u001b[31m15.0 MB/s\u001b[0m eta \u001b[36m0:00:00\u001b[0m\n",
      "\u001b[?25hCollecting markdown>=2.6.8\n",
      "  Downloading Markdown-3.7-py3-none-any.whl (106 kB)\n",
      "\u001b[2K     \u001b[90m━━━━━━━━━━━━━━━━━━━━━━━━━━━━━━━━━━━━━━━\u001b[0m \u001b[32m106.3/106.3 KB\u001b[0m \u001b[31m7.0 MB/s\u001b[0m eta \u001b[36m0:00:00\u001b[0m\n",
      "\u001b[?25hCollecting tensorboard-data-server<0.8.0,>=0.7.0\n",
      "  Downloading tensorboard_data_server-0.7.2-py3-none-manylinux_2_31_x86_64.whl (6.6 MB)\n",
      "\u001b[2K     \u001b[90m━━━━━━━━━━━━━━━━━━━━━━━━━━━━━━━━━━━━━━━━\u001b[0m \u001b[32m6.6/6.6 MB\u001b[0m \u001b[31m14.2 MB/s\u001b[0m eta \u001b[36m0:00:00\u001b[0m00:01\u001b[0m00:01\u001b[0m\n",
      "\u001b[?25hRequirement already satisfied: MarkupSafe>=2.1.1 in /usr/local/lib/python3.10/dist-packages (from werkzeug>=1.0.1->tensorboard<2.19,>=2.18->tensorflow) (2.1.5)\n",
      "Requirement already satisfied: pygments<3.0.0,>=2.13.0 in /usr/local/lib/python3.10/dist-packages (from rich->keras>=3.5.0->tensorflow) (2.18.0)\n",
      "Collecting markdown-it-py>=2.2.0\n",
      "  Downloading markdown_it_py-3.0.0-py3-none-any.whl (87 kB)\n",
      "\u001b[2K     \u001b[90m━━━━━━━━━━━━━━━━━━━━━━━━━━━━━━━━━━━━━━━━\u001b[0m \u001b[32m87.5/87.5 KB\u001b[0m \u001b[31m7.6 MB/s\u001b[0m eta \u001b[36m0:00:00\u001b[0m\n",
      "\u001b[?25hCollecting mdurl~=0.1\n",
      "  Downloading mdurl-0.1.2-py3-none-any.whl (10.0 kB)\n",
      "Installing collected packages: namex, libclang, flatbuffers, wrapt, werkzeug, termcolor, tensorflow-io-gcs-filesystem, tensorboard-data-server, protobuf, optree, opt-einsum, numpy, mdurl, markdown, grpcio, google-pasta, gast, astunparse, absl-py, tensorboard, ml-dtypes, markdown-it-py, h5py, rich, keras, tensorflow\n",
      "Successfully installed absl-py-2.1.0 astunparse-1.6.3 flatbuffers-24.3.25 gast-0.6.0 google-pasta-0.2.0 grpcio-1.68.1 h5py-3.12.1 keras-3.7.0 libclang-18.1.1 markdown-3.7 markdown-it-py-3.0.0 mdurl-0.1.2 ml-dtypes-0.4.1 namex-0.0.8 numpy-2.0.2 opt-einsum-3.4.0 optree-0.13.1 protobuf-5.29.1 rich-13.9.4 tensorboard-2.18.0 tensorboard-data-server-0.7.2 tensorflow-2.18.0 tensorflow-io-gcs-filesystem-0.37.1 termcolor-2.5.0 werkzeug-3.1.3 wrapt-1.17.0\n"
     ]
    }
   ],
   "source": [
    "!pip install tensorflow"
   ]
  },
  {
   "cell_type": "code",
   "execution_count": 45,
   "id": "96e030ea-5fad-4bab-9bcf-9f60fb122661",
   "metadata": {},
   "outputs": [
    {
     "name": "stdout",
     "output_type": "stream",
     "text": [
      "Defaulting to user installation because normal site-packages is not writeable\n",
      "Collecting tensorflow_decision_forests\n",
      "  Downloading tensorflow_decision_forests-1.11.0-cp310-cp310-manylinux_2_17_x86_64.manylinux2014_x86_64.whl (15.9 MB)\n",
      "\u001b[2K     \u001b[90m━━━━━━━━━━━━━━━━━━━━━━━━━━━━━━━━━━━━━━━━\u001b[0m \u001b[32m15.9/15.9 MB\u001b[0m \u001b[31m16.0 MB/s\u001b[0m eta \u001b[36m0:00:00\u001b[0m00:01\u001b[0m00:01\u001b[0m\n",
      "\u001b[?25hRequirement already satisfied: absl-py in ./.local/lib/python3.10/site-packages (from tensorflow_decision_forests) (2.1.0)\n",
      "Requirement already satisfied: wheel in /usr/lib/python3/dist-packages (from tensorflow_decision_forests) (0.37.1)\n",
      "Requirement already satisfied: numpy in ./.local/lib/python3.10/site-packages (from tensorflow_decision_forests) (2.0.2)\n",
      "Collecting ydf\n",
      "  Downloading ydf-0.9.0-cp310-cp310-manylinux_2_17_x86_64.manylinux2014_x86_64.whl (9.5 MB)\n",
      "\u001b[2K     \u001b[90m━━━━━━━━━━━━━━━━━━━━━━━━━━━━━━━━━━━━━━━━\u001b[0m \u001b[32m9.5/9.5 MB\u001b[0m \u001b[31m15.6 MB/s\u001b[0m eta \u001b[36m0:00:00\u001b[0m00:01\u001b[0m00:01\u001b[0m\n",
      "\u001b[?25hCollecting wurlitzer\n",
      "  Downloading wurlitzer-3.1.1-py3-none-any.whl (8.6 kB)\n",
      "Collecting tf-keras~=2.17\n",
      "  Downloading tf_keras-2.18.0-py3-none-any.whl (1.7 MB)\n",
      "\u001b[2K     \u001b[90m━━━━━━━━━━━━━━━━━━━━━━━━━━━━━━━━━━━━━━━━\u001b[0m \u001b[32m1.7/1.7 MB\u001b[0m \u001b[31m20.8 MB/s\u001b[0m eta \u001b[36m0:00:00\u001b[0ma \u001b[36m0:00:01\u001b[0m\n",
      "\u001b[?25hRequirement already satisfied: pandas in /usr/local/lib/python3.10/dist-packages (from tensorflow_decision_forests) (2.2.2)\n",
      "Requirement already satisfied: six in /usr/lib/python3/dist-packages (from tensorflow_decision_forests) (1.16.0)\n",
      "Requirement already satisfied: tensorflow==2.18.0 in ./.local/lib/python3.10/site-packages (from tensorflow_decision_forests) (2.18.0)\n",
      "Requirement already satisfied: gast!=0.5.0,!=0.5.1,!=0.5.2,>=0.2.1 in ./.local/lib/python3.10/site-packages (from tensorflow==2.18.0->tensorflow_decision_forests) (0.6.0)\n",
      "Requirement already satisfied: flatbuffers>=24.3.25 in ./.local/lib/python3.10/site-packages (from tensorflow==2.18.0->tensorflow_decision_forests) (24.3.25)\n",
      "Requirement already satisfied: astunparse>=1.6.0 in ./.local/lib/python3.10/site-packages (from tensorflow==2.18.0->tensorflow_decision_forests) (1.6.3)\n",
      "Requirement already satisfied: tensorboard<2.19,>=2.18 in ./.local/lib/python3.10/site-packages (from tensorflow==2.18.0->tensorflow_decision_forests) (2.18.0)\n",
      "Requirement already satisfied: typing-extensions>=3.6.6 in /usr/local/lib/python3.10/dist-packages (from tensorflow==2.18.0->tensorflow_decision_forests) (4.12.2)\n",
      "Requirement already satisfied: termcolor>=1.1.0 in ./.local/lib/python3.10/site-packages (from tensorflow==2.18.0->tensorflow_decision_forests) (2.5.0)\n",
      "Requirement already satisfied: h5py>=3.11.0 in ./.local/lib/python3.10/site-packages (from tensorflow==2.18.0->tensorflow_decision_forests) (3.12.1)\n",
      "Requirement already satisfied: packaging in /usr/local/lib/python3.10/dist-packages (from tensorflow==2.18.0->tensorflow_decision_forests) (24.1)\n",
      "Requirement already satisfied: requests<3,>=2.21.0 in /usr/local/lib/python3.10/dist-packages (from tensorflow==2.18.0->tensorflow_decision_forests) (2.32.3)\n",
      "Requirement already satisfied: protobuf!=4.21.0,!=4.21.1,!=4.21.2,!=4.21.3,!=4.21.4,!=4.21.5,<6.0.0dev,>=3.20.3 in ./.local/lib/python3.10/site-packages (from tensorflow==2.18.0->tensorflow_decision_forests) (5.29.1)\n",
      "Requirement already satisfied: opt-einsum>=2.3.2 in ./.local/lib/python3.10/site-packages (from tensorflow==2.18.0->tensorflow_decision_forests) (3.4.0)\n",
      "Requirement already satisfied: ml-dtypes<0.5.0,>=0.4.0 in ./.local/lib/python3.10/site-packages (from tensorflow==2.18.0->tensorflow_decision_forests) (0.4.1)\n",
      "Requirement already satisfied: tensorflow-io-gcs-filesystem>=0.23.1 in ./.local/lib/python3.10/site-packages (from tensorflow==2.18.0->tensorflow_decision_forests) (0.37.1)\n",
      "Requirement already satisfied: grpcio<2.0,>=1.24.3 in ./.local/lib/python3.10/site-packages (from tensorflow==2.18.0->tensorflow_decision_forests) (1.68.1)\n",
      "Requirement already satisfied: libclang>=13.0.0 in ./.local/lib/python3.10/site-packages (from tensorflow==2.18.0->tensorflow_decision_forests) (18.1.1)\n",
      "Requirement already satisfied: wrapt>=1.11.0 in ./.local/lib/python3.10/site-packages (from tensorflow==2.18.0->tensorflow_decision_forests) (1.17.0)\n",
      "Requirement already satisfied: keras>=3.5.0 in ./.local/lib/python3.10/site-packages (from tensorflow==2.18.0->tensorflow_decision_forests) (3.7.0)\n",
      "Requirement already satisfied: google-pasta>=0.1.1 in ./.local/lib/python3.10/site-packages (from tensorflow==2.18.0->tensorflow_decision_forests) (0.2.0)\n",
      "Requirement already satisfied: setuptools in /usr/lib/python3/dist-packages (from tensorflow==2.18.0->tensorflow_decision_forests) (59.6.0)\n",
      "Requirement already satisfied: pytz>=2020.1 in /usr/local/lib/python3.10/dist-packages (from pandas->tensorflow_decision_forests) (2024.1)\n",
      "Requirement already satisfied: tzdata>=2022.7 in /usr/local/lib/python3.10/dist-packages (from pandas->tensorflow_decision_forests) (2024.1)\n",
      "Requirement already satisfied: python-dateutil>=2.8.2 in /usr/local/lib/python3.10/dist-packages (from pandas->tensorflow_decision_forests) (2.9.0.post0)\n",
      "Requirement already satisfied: rich in ./.local/lib/python3.10/site-packages (from keras>=3.5.0->tensorflow==2.18.0->tensorflow_decision_forests) (13.9.4)\n",
      "Requirement already satisfied: optree in ./.local/lib/python3.10/site-packages (from keras>=3.5.0->tensorflow==2.18.0->tensorflow_decision_forests) (0.13.1)\n",
      "Requirement already satisfied: namex in ./.local/lib/python3.10/site-packages (from keras>=3.5.0->tensorflow==2.18.0->tensorflow_decision_forests) (0.0.8)\n",
      "Requirement already satisfied: urllib3<3,>=1.21.1 in /usr/local/lib/python3.10/dist-packages (from requests<3,>=2.21.0->tensorflow==2.18.0->tensorflow_decision_forests) (2.2.2)\n",
      "Requirement already satisfied: certifi>=2017.4.17 in /usr/local/lib/python3.10/dist-packages (from requests<3,>=2.21.0->tensorflow==2.18.0->tensorflow_decision_forests) (2024.7.4)\n",
      "Requirement already satisfied: idna<4,>=2.5 in /usr/local/lib/python3.10/dist-packages (from requests<3,>=2.21.0->tensorflow==2.18.0->tensorflow_decision_forests) (3.8)\n",
      "Requirement already satisfied: charset-normalizer<4,>=2 in /usr/local/lib/python3.10/dist-packages (from requests<3,>=2.21.0->tensorflow==2.18.0->tensorflow_decision_forests) (3.3.2)\n",
      "Requirement already satisfied: werkzeug>=1.0.1 in ./.local/lib/python3.10/site-packages (from tensorboard<2.19,>=2.18->tensorflow==2.18.0->tensorflow_decision_forests) (3.1.3)\n",
      "Requirement already satisfied: markdown>=2.6.8 in ./.local/lib/python3.10/site-packages (from tensorboard<2.19,>=2.18->tensorflow==2.18.0->tensorflow_decision_forests) (3.7)\n",
      "Requirement already satisfied: tensorboard-data-server<0.8.0,>=0.7.0 in ./.local/lib/python3.10/site-packages (from tensorboard<2.19,>=2.18->tensorflow==2.18.0->tensorflow_decision_forests) (0.7.2)\n",
      "Requirement already satisfied: MarkupSafe>=2.1.1 in /usr/local/lib/python3.10/dist-packages (from werkzeug>=1.0.1->tensorboard<2.19,>=2.18->tensorflow==2.18.0->tensorflow_decision_forests) (2.1.5)\n",
      "Requirement already satisfied: pygments<3.0.0,>=2.13.0 in /usr/local/lib/python3.10/dist-packages (from rich->keras>=3.5.0->tensorflow==2.18.0->tensorflow_decision_forests) (2.18.0)\n",
      "Requirement already satisfied: markdown-it-py>=2.2.0 in ./.local/lib/python3.10/site-packages (from rich->keras>=3.5.0->tensorflow==2.18.0->tensorflow_decision_forests) (3.0.0)\n",
      "Requirement already satisfied: mdurl~=0.1 in ./.local/lib/python3.10/site-packages (from markdown-it-py>=2.2.0->rich->keras>=3.5.0->tensorflow==2.18.0->tensorflow_decision_forests) (0.1.2)\n",
      "Installing collected packages: ydf, wurlitzer, tf-keras, tensorflow_decision_forests\n",
      "Successfully installed tensorflow_decision_forests-1.11.0 tf-keras-2.18.0 wurlitzer-3.1.1 ydf-0.9.0\n"
     ]
    }
   ],
   "source": [
    "!pip install tensorflow_decision_forests"
   ]
  },
  {
   "cell_type": "code",
   "execution_count": 47,
   "id": "619bdd8d-a938-43fd-b3d2-c89e74e7dd15",
   "metadata": {},
   "outputs": [
    {
     "name": "stdout",
     "output_type": "stream",
     "text": [
      "Defaulting to user installation because normal site-packages is not writeable\n",
      "Requirement already satisfied: ydf in ./.local/lib/python3.10/site-packages (0.9.0)\n",
      "Requirement already satisfied: numpy in ./.local/lib/python3.10/site-packages (from ydf) (2.0.2)\n",
      "Requirement already satisfied: absl_py in ./.local/lib/python3.10/site-packages (from ydf) (2.1.0)\n",
      "Requirement already satisfied: protobuf>=3.14 in ./.local/lib/python3.10/site-packages (from ydf) (5.29.1)\n"
     ]
    }
   ],
   "source": [
    "!pip install ydf -U"
   ]
  },
  {
   "cell_type": "code",
   "execution_count": 2,
   "id": "005d20bf-ec35-4dfa-bac9-9d13b08b1822",
   "metadata": {},
   "outputs": [
    {
     "name": "stderr",
     "output_type": "stream",
     "text": [
      "2024-12-11 06:22:32.508155: I tensorflow/core/util/port.cc:153] oneDNN custom operations are on. You may see slightly different numerical results due to floating-point round-off errors from different computation orders. To turn them off, set the environment variable `TF_ENABLE_ONEDNN_OPTS=0`.\n",
      "2024-12-11 06:22:32.519351: I external/local_xla/xla/tsl/cuda/cudart_stub.cc:32] Could not find cuda drivers on your machine, GPU will not be used.\n",
      "2024-12-11 06:22:32.681520: I external/local_xla/xla/tsl/cuda/cudart_stub.cc:32] Could not find cuda drivers on your machine, GPU will not be used.\n",
      "2024-12-11 06:22:32.833133: E external/local_xla/xla/stream_executor/cuda/cuda_fft.cc:477] Unable to register cuFFT factory: Attempting to register factory for plugin cuFFT when one has already been registered\n",
      "WARNING: All log messages before absl::InitializeLog() is called are written to STDERR\n",
      "E0000 00:00:1733919752.955198    9845 cuda_dnn.cc:8310] Unable to register cuDNN factory: Attempting to register factory for plugin cuDNN when one has already been registered\n",
      "E0000 00:00:1733919752.996236    9845 cuda_blas.cc:1418] Unable to register cuBLAS factory: Attempting to register factory for plugin cuBLAS when one has already been registered\n",
      "2024-12-11 06:22:33.288204: I tensorflow/core/platform/cpu_feature_guard.cc:210] This TensorFlow binary is optimized to use available CPU instructions in performance-critical operations.\n",
      "To enable the following instructions: AVX2 AVX_VNNI FMA, in other operations, rebuild TensorFlow with the appropriate compiler flags.\n"
     ]
    },
    {
     "data": {
      "text/html": [
       "\n",
       "<p style=\"margin:0px;\">🌲 Try <a href=\"https://ydf.readthedocs.io/en/latest/\" target=\"_blank\">YDF</a>, the successor of\n",
       "    <a href=\"https://www.tensorflow.org/decision_forests\" target=\"_blank\">TensorFlow\n",
       "        Decision Forests</a> using the same algorithms but with more features and faster\n",
       "    training!\n",
       "</p>\n",
       "<div style=\"display: flex; flex-wrap: wrap; margin:5px;max-width: 880px;\">\n",
       "    <div style=\"flex: 1; border-radius: 10px; background-color: F0F0F0; padding: 5px;\">\n",
       "        <p\n",
       "            style=\"font-weight: bold; margin:0px;text-align: center;border-bottom: 1px solid #C0C0C0;margin-bottom: 4px;\">\n",
       "            Old code</p>\n",
       "        <pre style=\"overflow-wrap: anywhere; overflow: auto; margin:0px;font-size: 9pt;\">\n",
       "import tensorflow_decision_forests as tfdf\n",
       "\n",
       "tf_ds = tfdf.keras.pd_dataframe_to_tf_dataset(ds, label=\"l\")\n",
       "model = tfdf.keras.RandomForestModel(label=\"l\")\n",
       "model.fit(tf_ds)\n",
       "</pre>\n",
       "    </div>\n",
       "    <div style=\"width: 5px;\"></div>\n",
       "    <div style=\"flex: 1; border-radius: 10px; background-color: F0F0F0; padding: 5px;\">\n",
       "        <p\n",
       "            style=\"font-weight: bold; margin:0px;text-align: center;border-bottom: 1px solid #C0C0C0;margin-bottom: 4px;\">\n",
       "            New code</p>\n",
       "        <pre style=\"overflow-wrap: anywhere; overflow: auto; margin:0px;font-size: 9pt;\">\n",
       "import ydf\n",
       "\n",
       "model = ydf.RandomForestLearner(label=\"l\").train(ds)\n",
       "</pre>\n",
       "    </div>\n",
       "</div>\n",
       "<p style=\"margin:0px;font-size: 9pt;\">(Learn more in the <a\n",
       "        href=\"https://ydf.readthedocs.io/en/latest/tutorial/migrating_to_ydf/\" target=\"_blank\">migration\n",
       "        guide</a>)</p>\n"
      ],
      "text/plain": [
       "<IPython.core.display.HTML object>"
      ]
     },
     "metadata": {},
     "output_type": "display_data"
    }
   ],
   "source": [
    "import pandas as pd\n",
    "import numpy as np\n",
    "import matplotlib.pyplot as plt\n",
    "import seaborn as sns\n",
    "\n",
    "import tensorflow_decision_forests as tfdf"
   ]
  },
  {
   "cell_type": "markdown",
   "id": "1df546cb-e4a7-4624-a0b2-d30c06599184",
   "metadata": {},
   "source": [
    "What are we trying to predict? For each session_id/question, we are trying to predict if a user will get a question right for that particular session\n",
    "\n",
    "Very important:\n",
    "There are 3 level groups. 0-4,5-12,13-22\n",
    "Once a group of levels is finished certain questions will be asked. For example, after completing levels 0-4, you will be asked questions 1-3\n",
    "\n",
    "Levels 0-4, question 1-3\n",
    "Levels 5-12, question 4-13\n",
    "Levels 13-22, question 14-18\n",
    "\n",
    "There are a total of 18 questions\n",
    "Based on previous information of the session, we need to guess if the user got the question right.\n",
    "\n",
    "\n",
    "\n",
    "\n",
    "train dataset:\n",
    "There were originally over 26 million rows but I lowered the amount of rows to 10 million as it was easier for my computer to handle.\n",
    "We start with 20 columns but we will be getting rid of columns with way too many missing values as well as values I have deemed not important to the machine-learning algorithm\n",
    "\n",
    "Removed columns:\n",
    "    Due to missing values:\n",
    "        'page', 'hover_duration', 'text', 'fqid', 'text_fqid'\n",
    "    Due to my arbitrary reasoning (not being useful to the problem):\n",
    "        'index', 'fullscreen', 'hq', 'music'\n",
    "\n",
    "Remaining Columns:\n",
    "    'session_id'- numerical(int64), 0 missing value ,the actual range of values not relevant\n",
    "    'elasped_time'- numerical(int32), 0 missing values, range is 1988601973 in milliseconds\n",
    "    'event_name'- categorical, 0 missing values\n",
    "    'name'- categorical, 0 missing values\n",
    "    'level'- numerical(uint8), 0 missing values, range is 22\n",
    "    'room_coor_x'- numerical(float32), 788253 missing values, range is 3249.56787109375\n",
    "    'room_coor_y'- numerical(float32), 788253 missing values, range is 1461.77880859375\n",
    "    'screen_coor_x'- numerical(float32), 788253 missing values, range is 1919.0\n",
    "    'screen_coor_y'- numerical(float32), 788253 missing values, range is 1919.0\n",
    "    'room_fqid'- categorical, 0 missing values\n",
    "    'level_group'- categorical, 0 missing values\n",
    "\n",
    "Points to discuss:\n",
    "    Class imbalances: Most categorical values have a significant imbalance between the categories\n",
    "\n",
    "    Missing values: As you can see with the x and y coordinates, based on the game room and screen, the amount of missing values is the same for each column, upon looking at the data set we see a trend. Whenever one of these is missing, so are all the others. This gives us the option of either removing all the null values or replacing all of them with the knowledge that 4 out of 11 columns would be identical for just under 800,000 of 10,000,000 rows. We have enough data to get rid of these rows. We can compare imputing the missing data and getting rid of the values later on.\n",
    "\n",
    "    Outliers: Upon a quick glance we can see their are some obvious outliers within multiple columns\n",
    "        elapsed_time\n",
    "        screen_coor_x\n",
    "        screen_coor_y\n",
    "    We will scale the numerical columns using z-score and get rid of any values with a magnitude greater than 3\n",
    "\n",
    "Prior to the removal of outliers, the shape of our dataset is (10000000,11)\n",
    "\n",
    "\n",
    "\n",
    "\n",
    "train_labels:\n",
    "Gives the session_id along with the question that went along with it. Tells us if the questions were answered correctly\n",
    "Not much change needs to be made to this dataset\n",
    "\n",
    "There are no missing values in the dataset\n",
    "\n",
    "For easier use I s the session_id into session and question\n",
    "This will allow us to look at the specific question for each session Id\n",
    "\n",
    "Columns:\n",
    "    'session_id'- object\n",
    "    'correct'- categorical, 1 or 0\n",
    "    'session'- numerical, range not super relevant\n",
    "    'q'- numerical, question number, range is 18\n",
    "\n",
    "There is a class imbalance in the correct column (much more correct than incorrect)\n",
    "\n",
    "No outliers\n",
    "\n",
    "After splitting up the session_id column the shape is (424116, 4)\n",
    "\n",
    "\n",
    "First we will look and understand the original training dataset. This is a classification, we will be using a random forest classification algorithm for this problem"
   ]
  },
  {
   "cell_type": "code",
   "execution_count": 3,
   "id": "88544cf6-5a06-4ae5-a20b-593e0567854f",
   "metadata": {},
   "outputs": [
    {
     "name": "stdout",
     "output_type": "stream",
     "text": [
      "(10000000, 20)\n"
     ]
    }
   ],
   "source": [
    "# thie file was too big for me to load it all at once so I had to split it up into chunks then concat them together\n",
    "\n",
    "# Even after this I was still having problems, but by using dtypes, it became easier to run\n",
    "# Im going to make everything work first because I've already started, but when I run it again I need to make sure\n",
    "# I randomize it because some of the columns are in order and may cause bias\n",
    "dtypes={'elapsed_time':np.int32,\n",
    "        'event_name':'category',\n",
    "        'name':'category',\n",
    "        'level':np.uint8,\n",
    "        'room_coor_x':np.float32,\n",
    "        'room_coor_y':np.float32,\n",
    "        'screen_coor_x':np.float32,\n",
    "        'screen_coor_y':np.float32,\n",
    "        'hover_duration':np.float32,\n",
    "        'text':'category',\n",
    "        'fqid':'category',\n",
    "        'room_fqid':'category',\n",
    "        'text_fqid':'category',\n",
    "        'fullscreen':'category',\n",
    "        'hq':'category',\n",
    "        'music':'category',\n",
    "        'level_group':'category'}\n",
    "#use=['session_id','elapsed_time','event_name','name','level','room_coor_x','room_coor_y','screen_coor_x','screen_coor_y','room_fqid','fullscreen',\n",
    "  #  'hq','music','level_group']\n",
    "chunksize = 1000000  \n",
    "chunks = pd.read_csv(\"train.csv\", chunksize=chunksize,dtype=dtypes)\n",
    "\n",
    "#will use to store chunks\n",
    "df_list = []\n",
    "\n",
    "\n",
    "for chunk in chunks:\n",
    "    df_list.append(chunk)\n",
    "\n",
    "#combining all of the chunks \n",
    "df = pd.concat(df_list, ignore_index=True)\n",
    "# I kept having problems, therefore, since I have 26 million rows I am going to make the dataset smaller\n",
    "# Randomly shuffle the rows\n",
    "df_shuffled = df.sample(frac=1, random_state=42)  # frac=1 shuffles all rows\n",
    "\n",
    "# Select the first 10000000 rows\n",
    "df = df_shuffled.head(10000000)\n",
    "\n",
    "\n",
    "\n",
    "# Print the shape of the sampled DataFrame\n",
    "print(df.shape)\n"
   ]
  },
  {
   "cell_type": "code",
   "execution_count": 4,
   "id": "17e63d31-ca62-46c1-a3db-160fc42503da",
   "metadata": {
    "scrolled": true
   },
   "outputs": [
    {
     "data": {
      "text/html": [
       "<div>\n",
       "<style scoped>\n",
       "    .dataframe tbody tr th:only-of-type {\n",
       "        vertical-align: middle;\n",
       "    }\n",
       "\n",
       "    .dataframe tbody tr th {\n",
       "        vertical-align: top;\n",
       "    }\n",
       "\n",
       "    .dataframe thead th {\n",
       "        text-align: right;\n",
       "    }\n",
       "</style>\n",
       "<table border=\"1\" class=\"dataframe\">\n",
       "  <thead>\n",
       "    <tr style=\"text-align: right;\">\n",
       "      <th></th>\n",
       "      <th>session_id</th>\n",
       "      <th>index</th>\n",
       "      <th>elapsed_time</th>\n",
       "      <th>event_name</th>\n",
       "      <th>name</th>\n",
       "      <th>level</th>\n",
       "      <th>page</th>\n",
       "      <th>room_coor_x</th>\n",
       "      <th>room_coor_y</th>\n",
       "      <th>screen_coor_x</th>\n",
       "      <th>screen_coor_y</th>\n",
       "      <th>hover_duration</th>\n",
       "      <th>text</th>\n",
       "      <th>fqid</th>\n",
       "      <th>room_fqid</th>\n",
       "      <th>text_fqid</th>\n",
       "      <th>fullscreen</th>\n",
       "      <th>hq</th>\n",
       "      <th>music</th>\n",
       "      <th>level_group</th>\n",
       "    </tr>\n",
       "  </thead>\n",
       "  <tbody>\n",
       "    <tr>\n",
       "      <th>24609355</th>\n",
       "      <td>22050515002013210</td>\n",
       "      <td>223</td>\n",
       "      <td>260482</td>\n",
       "      <td>navigate_click</td>\n",
       "      <td>undefined</td>\n",
       "      <td>4</td>\n",
       "      <td>NaN</td>\n",
       "      <td>-869.964600</td>\n",
       "      <td>-43.000000</td>\n",
       "      <td>44.0</td>\n",
       "      <td>373.0</td>\n",
       "      <td>NaN</td>\n",
       "      <td>NaN</td>\n",
       "      <td>toentry</td>\n",
       "      <td>tunic.kohlcenter.halloffame</td>\n",
       "      <td>NaN</td>\n",
       "      <td>0</td>\n",
       "      <td>0</td>\n",
       "      <td>1</td>\n",
       "      <td>0-4</td>\n",
       "    </tr>\n",
       "    <tr>\n",
       "      <th>1869913</th>\n",
       "      <td>20110208513597010</td>\n",
       "      <td>498</td>\n",
       "      <td>1535765</td>\n",
       "      <td>cutscene_click</td>\n",
       "      <td>basic</td>\n",
       "      <td>13</td>\n",
       "      <td>NaN</td>\n",
       "      <td>-130.537888</td>\n",
       "      <td>-115.368660</td>\n",
       "      <td>377.0</td>\n",
       "      <td>400.0</td>\n",
       "      <td>NaN</td>\n",
       "      <td>We'll need a key card.</td>\n",
       "      <td>seescratches</td>\n",
       "      <td>tunic.historicalsociety.basement</td>\n",
       "      <td>tunic.historicalsociety.basement.seescratches</td>\n",
       "      <td>1</td>\n",
       "      <td>0</td>\n",
       "      <td>1</td>\n",
       "      <td>13-22</td>\n",
       "    </tr>\n",
       "    <tr>\n",
       "      <th>856552</th>\n",
       "      <td>20100317311324640</td>\n",
       "      <td>23</td>\n",
       "      <td>81326</td>\n",
       "      <td>notification_click</td>\n",
       "      <td>basic</td>\n",
       "      <td>0</td>\n",
       "      <td>NaN</td>\n",
       "      <td>-395.484680</td>\n",
       "      <td>-254.883224</td>\n",
       "      <td>554.0</td>\n",
       "      <td>558.0</td>\n",
       "      <td>NaN</td>\n",
       "      <td>Gramps is a great historian!</td>\n",
       "      <td>NaN</td>\n",
       "      <td>tunic.historicalsociety.closet</td>\n",
       "      <td>tunic.historicalsociety.closet.retirement_lett...</td>\n",
       "      <td>0</td>\n",
       "      <td>0</td>\n",
       "      <td>1</td>\n",
       "      <td>0-4</td>\n",
       "    </tr>\n",
       "    <tr>\n",
       "      <th>19147512</th>\n",
       "      <td>21100119031562704</td>\n",
       "      <td>624</td>\n",
       "      <td>1626313</td>\n",
       "      <td>map_hover</td>\n",
       "      <td>basic</td>\n",
       "      <td>15</td>\n",
       "      <td>NaN</td>\n",
       "      <td>NaN</td>\n",
       "      <td>NaN</td>\n",
       "      <td>NaN</td>\n",
       "      <td>NaN</td>\n",
       "      <td>33.0</td>\n",
       "      <td>NaN</td>\n",
       "      <td>tunic.capitol_2</td>\n",
       "      <td>tunic.library.frontdesk</td>\n",
       "      <td>NaN</td>\n",
       "      <td>0</td>\n",
       "      <td>0</td>\n",
       "      <td>1</td>\n",
       "      <td>13-22</td>\n",
       "    </tr>\n",
       "    <tr>\n",
       "      <th>800451</th>\n",
       "      <td>20100313454174660</td>\n",
       "      <td>686</td>\n",
       "      <td>3690186</td>\n",
       "      <td>cutscene_click</td>\n",
       "      <td>basic</td>\n",
       "      <td>16</td>\n",
       "      <td>NaN</td>\n",
       "      <td>-944.905884</td>\n",
       "      <td>-186.149612</td>\n",
       "      <td>418.0</td>\n",
       "      <td>494.0</td>\n",
       "      <td>NaN</td>\n",
       "      <td>You can't just steal Jolie's pet.</td>\n",
       "      <td>confrontation</td>\n",
       "      <td>tunic.historicalsociety.cage</td>\n",
       "      <td>tunic.historicalsociety.cage.confrontation</td>\n",
       "      <td>1</td>\n",
       "      <td>0</td>\n",
       "      <td>1</td>\n",
       "      <td>13-22</td>\n",
       "    </tr>\n",
       "  </tbody>\n",
       "</table>\n",
       "</div>"
      ],
      "text/plain": [
       "                 session_id  index  elapsed_time          event_name  \\\n",
       "24609355  22050515002013210    223        260482      navigate_click   \n",
       "1869913   20110208513597010    498       1535765      cutscene_click   \n",
       "856552    20100317311324640     23         81326  notification_click   \n",
       "19147512  21100119031562704    624       1626313           map_hover   \n",
       "800451    20100313454174660    686       3690186      cutscene_click   \n",
       "\n",
       "               name  level  page  room_coor_x  room_coor_y  screen_coor_x  \\\n",
       "24609355  undefined      4   NaN  -869.964600   -43.000000           44.0   \n",
       "1869913       basic     13   NaN  -130.537888  -115.368660          377.0   \n",
       "856552        basic      0   NaN  -395.484680  -254.883224          554.0   \n",
       "19147512      basic     15   NaN          NaN          NaN            NaN   \n",
       "800451        basic     16   NaN  -944.905884  -186.149612          418.0   \n",
       "\n",
       "          screen_coor_y  hover_duration                               text  \\\n",
       "24609355          373.0             NaN                                NaN   \n",
       "1869913           400.0             NaN             We'll need a key card.   \n",
       "856552            558.0             NaN       Gramps is a great historian!   \n",
       "19147512            NaN            33.0                                NaN   \n",
       "800451            494.0             NaN  You can't just steal Jolie's pet.   \n",
       "\n",
       "                     fqid                         room_fqid  \\\n",
       "24609355          toentry       tunic.kohlcenter.halloffame   \n",
       "1869913      seescratches  tunic.historicalsociety.basement   \n",
       "856552                NaN    tunic.historicalsociety.closet   \n",
       "19147512  tunic.capitol_2           tunic.library.frontdesk   \n",
       "800451      confrontation      tunic.historicalsociety.cage   \n",
       "\n",
       "                                                  text_fqid fullscreen hq  \\\n",
       "24609355                                                NaN          0  0   \n",
       "1869913       tunic.historicalsociety.basement.seescratches          1  0   \n",
       "856552    tunic.historicalsociety.closet.retirement_lett...          0  0   \n",
       "19147512                                                NaN          0  0   \n",
       "800451           tunic.historicalsociety.cage.confrontation          1  0   \n",
       "\n",
       "         music level_group  \n",
       "24609355     1         0-4  \n",
       "1869913      1       13-22  \n",
       "856552       1         0-4  \n",
       "19147512     1       13-22  \n",
       "800451       1       13-22  "
      ]
     },
     "execution_count": 4,
     "metadata": {},
     "output_type": "execute_result"
    }
   ],
   "source": [
    "df.head()"
   ]
  },
  {
   "cell_type": "code",
   "execution_count": 5,
   "id": "2a91f26c-951d-4ed1-83c1-5b472bcdc818",
   "metadata": {
    "scrolled": true
   },
   "outputs": [
    {
     "data": {
      "text/plain": [
       "session_id              0\n",
       "index                   0\n",
       "elapsed_time            0\n",
       "event_name              0\n",
       "name                    0\n",
       "level                   0\n",
       "page              9785963\n",
       "room_coor_x        788253\n",
       "room_coor_y        788253\n",
       "screen_coor_x      788253\n",
       "screen_coor_y      788253\n",
       "hover_duration    9238690\n",
       "text              6343028\n",
       "fqid              3145520\n",
       "room_fqid               0\n",
       "text_fqid         6342989\n",
       "fullscreen              0\n",
       "hq                      0\n",
       "music                   0\n",
       "level_group             0\n",
       "dtype: int64"
      ]
     },
     "execution_count": 5,
     "metadata": {},
     "output_type": "execute_result"
    }
   ],
   "source": [
    "df.isnull().sum()"
   ]
  },
  {
   "cell_type": "code",
   "execution_count": 6,
   "id": "07448122-2f95-4785-867a-02f4bdcec956",
   "metadata": {},
   "outputs": [],
   "source": [
    "drop_col=['index','page','hover_duration','text',\n",
    "          'fqid','text_fqid','music','hq','fullscreen']\n",
    "df = df.drop(columns=drop_col)\n"
   ]
  },
  {
   "cell_type": "code",
   "execution_count": 7,
   "id": "430c2083-0541-47b1-96ac-ee827129561e",
   "metadata": {},
   "outputs": [
    {
     "data": {
      "text/html": [
       "<div>\n",
       "<style scoped>\n",
       "    .dataframe tbody tr th:only-of-type {\n",
       "        vertical-align: middle;\n",
       "    }\n",
       "\n",
       "    .dataframe tbody tr th {\n",
       "        vertical-align: top;\n",
       "    }\n",
       "\n",
       "    .dataframe thead th {\n",
       "        text-align: right;\n",
       "    }\n",
       "</style>\n",
       "<table border=\"1\" class=\"dataframe\">\n",
       "  <thead>\n",
       "    <tr style=\"text-align: right;\">\n",
       "      <th></th>\n",
       "      <th>session_id</th>\n",
       "      <th>elapsed_time</th>\n",
       "      <th>event_name</th>\n",
       "      <th>name</th>\n",
       "      <th>level</th>\n",
       "      <th>room_coor_x</th>\n",
       "      <th>room_coor_y</th>\n",
       "      <th>screen_coor_x</th>\n",
       "      <th>screen_coor_y</th>\n",
       "      <th>room_fqid</th>\n",
       "      <th>level_group</th>\n",
       "    </tr>\n",
       "  </thead>\n",
       "  <tbody>\n",
       "    <tr>\n",
       "      <th>24609355</th>\n",
       "      <td>22050515002013210</td>\n",
       "      <td>260482</td>\n",
       "      <td>navigate_click</td>\n",
       "      <td>undefined</td>\n",
       "      <td>4</td>\n",
       "      <td>-869.964600</td>\n",
       "      <td>-43.000000</td>\n",
       "      <td>44.0</td>\n",
       "      <td>373.0</td>\n",
       "      <td>tunic.kohlcenter.halloffame</td>\n",
       "      <td>0-4</td>\n",
       "    </tr>\n",
       "    <tr>\n",
       "      <th>1869913</th>\n",
       "      <td>20110208513597010</td>\n",
       "      <td>1535765</td>\n",
       "      <td>cutscene_click</td>\n",
       "      <td>basic</td>\n",
       "      <td>13</td>\n",
       "      <td>-130.537888</td>\n",
       "      <td>-115.368660</td>\n",
       "      <td>377.0</td>\n",
       "      <td>400.0</td>\n",
       "      <td>tunic.historicalsociety.basement</td>\n",
       "      <td>13-22</td>\n",
       "    </tr>\n",
       "    <tr>\n",
       "      <th>856552</th>\n",
       "      <td>20100317311324640</td>\n",
       "      <td>81326</td>\n",
       "      <td>notification_click</td>\n",
       "      <td>basic</td>\n",
       "      <td>0</td>\n",
       "      <td>-395.484680</td>\n",
       "      <td>-254.883224</td>\n",
       "      <td>554.0</td>\n",
       "      <td>558.0</td>\n",
       "      <td>tunic.historicalsociety.closet</td>\n",
       "      <td>0-4</td>\n",
       "    </tr>\n",
       "    <tr>\n",
       "      <th>19147512</th>\n",
       "      <td>21100119031562704</td>\n",
       "      <td>1626313</td>\n",
       "      <td>map_hover</td>\n",
       "      <td>basic</td>\n",
       "      <td>15</td>\n",
       "      <td>NaN</td>\n",
       "      <td>NaN</td>\n",
       "      <td>NaN</td>\n",
       "      <td>NaN</td>\n",
       "      <td>tunic.library.frontdesk</td>\n",
       "      <td>13-22</td>\n",
       "    </tr>\n",
       "    <tr>\n",
       "      <th>800451</th>\n",
       "      <td>20100313454174660</td>\n",
       "      <td>3690186</td>\n",
       "      <td>cutscene_click</td>\n",
       "      <td>basic</td>\n",
       "      <td>16</td>\n",
       "      <td>-944.905884</td>\n",
       "      <td>-186.149612</td>\n",
       "      <td>418.0</td>\n",
       "      <td>494.0</td>\n",
       "      <td>tunic.historicalsociety.cage</td>\n",
       "      <td>13-22</td>\n",
       "    </tr>\n",
       "  </tbody>\n",
       "</table>\n",
       "</div>"
      ],
      "text/plain": [
       "                 session_id  elapsed_time          event_name       name  \\\n",
       "24609355  22050515002013210        260482      navigate_click  undefined   \n",
       "1869913   20110208513597010       1535765      cutscene_click      basic   \n",
       "856552    20100317311324640         81326  notification_click      basic   \n",
       "19147512  21100119031562704       1626313           map_hover      basic   \n",
       "800451    20100313454174660       3690186      cutscene_click      basic   \n",
       "\n",
       "          level  room_coor_x  room_coor_y  screen_coor_x  screen_coor_y  \\\n",
       "24609355      4  -869.964600   -43.000000           44.0          373.0   \n",
       "1869913      13  -130.537888  -115.368660          377.0          400.0   \n",
       "856552        0  -395.484680  -254.883224          554.0          558.0   \n",
       "19147512     15          NaN          NaN            NaN            NaN   \n",
       "800451       16  -944.905884  -186.149612          418.0          494.0   \n",
       "\n",
       "                                 room_fqid level_group  \n",
       "24609355       tunic.kohlcenter.halloffame         0-4  \n",
       "1869913   tunic.historicalsociety.basement       13-22  \n",
       "856552      tunic.historicalsociety.closet         0-4  \n",
       "19147512           tunic.library.frontdesk       13-22  \n",
       "800451        tunic.historicalsociety.cage       13-22  "
      ]
     },
     "execution_count": 7,
     "metadata": {},
     "output_type": "execute_result"
    }
   ],
   "source": [
    "df.head()"
   ]
  },
  {
   "cell_type": "code",
   "execution_count": 8,
   "id": "fc291184-330d-4ceb-a555-1fffc8413b3a",
   "metadata": {},
   "outputs": [
    {
     "data": {
      "text/plain": [
       "(10000000, 11)"
      ]
     },
     "execution_count": 8,
     "metadata": {},
     "output_type": "execute_result"
    }
   ],
   "source": [
    "df.shape"
   ]
  },
  {
   "cell_type": "code",
   "execution_count": 9,
   "id": "72dcf1c0-7a40-4030-ba9e-e6157fdb9268",
   "metadata": {},
   "outputs": [],
   "source": [
    "# Having x and y coordinates allows for some mathmatical concepts to be computed\n",
    "numerical=['elapsed_time','room_coor_x','room_coor_y','screen_coor_x','screen_coor_y']"
   ]
  },
  {
   "cell_type": "code",
   "execution_count": 10,
   "id": "989c92d4-11c4-4787-98c7-ca9b08dc596e",
   "metadata": {},
   "outputs": [
    {
     "data": {
      "text/html": [
       "<div>\n",
       "<style scoped>\n",
       "    .dataframe tbody tr th:only-of-type {\n",
       "        vertical-align: middle;\n",
       "    }\n",
       "\n",
       "    .dataframe tbody tr th {\n",
       "        vertical-align: top;\n",
       "    }\n",
       "\n",
       "    .dataframe thead th {\n",
       "        text-align: right;\n",
       "    }\n",
       "</style>\n",
       "<table border=\"1\" class=\"dataframe\">\n",
       "  <thead>\n",
       "    <tr style=\"text-align: right;\">\n",
       "      <th></th>\n",
       "      <th>elapsed_time</th>\n",
       "      <th>room_coor_x</th>\n",
       "      <th>room_coor_y</th>\n",
       "      <th>screen_coor_x</th>\n",
       "      <th>screen_coor_y</th>\n",
       "    </tr>\n",
       "  </thead>\n",
       "  <tbody>\n",
       "    <tr>\n",
       "      <th>count</th>\n",
       "      <td>1.000000e+07</td>\n",
       "      <td>9.211747e+06</td>\n",
       "      <td>9.211747e+06</td>\n",
       "      <td>9.211747e+06</td>\n",
       "      <td>9.211747e+06</td>\n",
       "    </tr>\n",
       "    <tr>\n",
       "      <th>mean</th>\n",
       "      <td>4.002322e+06</td>\n",
       "      <td>-5.490759e+01</td>\n",
       "      <td>-1.162202e+02</td>\n",
       "      <td>4.584365e+02</td>\n",
       "      <td>3.856186e+02</td>\n",
       "    </tr>\n",
       "    <tr>\n",
       "      <th>std</th>\n",
       "      <td>3.105847e+07</td>\n",
       "      <td>5.202964e+02</td>\n",
       "      <td>2.184676e+02</td>\n",
       "      <td>2.478973e+02</td>\n",
       "      <td>1.298465e+02</td>\n",
       "    </tr>\n",
       "    <tr>\n",
       "      <th>min</th>\n",
       "      <td>0.000000e+00</td>\n",
       "      <td>-1.991220e+03</td>\n",
       "      <td>-9.181624e+02</td>\n",
       "      <td>0.000000e+00</td>\n",
       "      <td>0.000000e+00</td>\n",
       "    </tr>\n",
       "    <tr>\n",
       "      <th>25%</th>\n",
       "      <td>4.391730e+05</td>\n",
       "      <td>-3.527992e+02</td>\n",
       "      <td>-2.127457e+02</td>\n",
       "      <td>2.690000e+02</td>\n",
       "      <td>3.040000e+02</td>\n",
       "    </tr>\n",
       "    <tr>\n",
       "      <th>50%</th>\n",
       "      <td>1.014536e+06</td>\n",
       "      <td>-1.115665e+01</td>\n",
       "      <td>-9.757702e+01</td>\n",
       "      <td>4.470000e+02</td>\n",
       "      <td>3.970000e+02</td>\n",
       "    </tr>\n",
       "    <tr>\n",
       "      <th>75%</th>\n",
       "      <td>1.746465e+06</td>\n",
       "      <td>2.966202e+02</td>\n",
       "      <td>2.270195e+01</td>\n",
       "      <td>6.630000e+02</td>\n",
       "      <td>4.710000e+02</td>\n",
       "    </tr>\n",
       "    <tr>\n",
       "      <th>max</th>\n",
       "      <td>1.988602e+09</td>\n",
       "      <td>1.258348e+03</td>\n",
       "      <td>5.436164e+02</td>\n",
       "      <td>1.919000e+03</td>\n",
       "      <td>1.440000e+03</td>\n",
       "    </tr>\n",
       "  </tbody>\n",
       "</table>\n",
       "</div>"
      ],
      "text/plain": [
       "       elapsed_time   room_coor_x   room_coor_y  screen_coor_x  screen_coor_y\n",
       "count  1.000000e+07  9.211747e+06  9.211747e+06   9.211747e+06   9.211747e+06\n",
       "mean   4.002322e+06 -5.490759e+01 -1.162202e+02   4.584365e+02   3.856186e+02\n",
       "std    3.105847e+07  5.202964e+02  2.184676e+02   2.478973e+02   1.298465e+02\n",
       "min    0.000000e+00 -1.991220e+03 -9.181624e+02   0.000000e+00   0.000000e+00\n",
       "25%    4.391730e+05 -3.527992e+02 -2.127457e+02   2.690000e+02   3.040000e+02\n",
       "50%    1.014536e+06 -1.115665e+01 -9.757702e+01   4.470000e+02   3.970000e+02\n",
       "75%    1.746465e+06  2.966202e+02  2.270195e+01   6.630000e+02   4.710000e+02\n",
       "max    1.988602e+09  1.258348e+03  5.436164e+02   1.919000e+03   1.440000e+03"
      ]
     },
     "execution_count": 10,
     "metadata": {},
     "output_type": "execute_result"
    }
   ],
   "source": [
    "df[numerical].describe()"
   ]
  },
  {
   "cell_type": "code",
   "execution_count": 11,
   "id": "34cfee68-c974-49e5-abed-b45d646f3f92",
   "metadata": {},
   "outputs": [
    {
     "name": "stdout",
     "output_type": "stream",
     "text": [
      "<class 'pandas.core.frame.DataFrame'>\n",
      "Index: 10000000 entries, 24609355 to 13365862\n",
      "Data columns (total 11 columns):\n",
      " #   Column         Dtype   \n",
      "---  ------         -----   \n",
      " 0   session_id     int64   \n",
      " 1   elapsed_time   int32   \n",
      " 2   event_name     category\n",
      " 3   name           category\n",
      " 4   level          uint8   \n",
      " 5   room_coor_x    float32 \n",
      " 6   room_coor_y    float32 \n",
      " 7   screen_coor_x  float32 \n",
      " 8   screen_coor_y  float32 \n",
      " 9   room_fqid      category\n",
      " 10  level_group    category\n",
      "dtypes: category(4), float32(4), int32(1), int64(1), uint8(1)\n",
      "memory usage: 391.0 MB\n"
     ]
    }
   ],
   "source": [
    "df.info()"
   ]
  },
  {
   "cell_type": "code",
   "execution_count": 12,
   "id": "3f871e88-b233-4b3b-958e-a9b0af27e80e",
   "metadata": {},
   "outputs": [
    {
     "name": "stdout",
     "output_type": "stream",
     "text": [
      "'elapsed_time' range is: 1988601973\n",
      "'level' range is: 22\n",
      "'room_coor_x' range is: 3249.56787109375\n",
      "'room_coor_y' range is: 1461.77880859375\n",
      "'screen_coor_x' range is: 1919.0\n",
      "'screen_coor_x' range is: 1919.0\n"
     ]
    }
   ],
   "source": [
    "numerical=['elapsed_time','level','room_coor_x','room_coor_y','screen_coor_x','screen_coor_x',]\n",
    "for _ in df[numerical]:\n",
    "    c_range= df[_].max()-df[_].min()\n",
    "    print(f\"'{_}' range is: {c_range}\")"
   ]
  },
  {
   "cell_type": "code",
   "execution_count": 13,
   "id": "3ed5e86f-d094-473b-9859-7d2cbd877c62",
   "metadata": {},
   "outputs": [
    {
     "data": {
      "text/plain": [
       "['navigate_click', 'cutscene_click', 'notification_click', 'map_hover', 'person_click', ..., 'object_hover', 'map_click', 'notebook_click', 'observation_click', 'checkpoint']\n",
       "Length: 11\n",
       "Categories (11, object): ['checkpoint', 'cutscene_click', 'map_click', 'map_hover', ..., 'object_click', 'object_hover', 'observation_click', 'person_click']"
      ]
     },
     "execution_count": 13,
     "metadata": {},
     "output_type": "execute_result"
    }
   ],
   "source": [
    "# If we are going to be encoding, we will need to find all of the categories of the categorical columns\n",
    "df['event_name'].unique()\n"
   ]
  },
  {
   "cell_type": "code",
   "execution_count": 14,
   "id": "dc0e9066-f208-478c-86c6-2a77735cd8ff",
   "metadata": {},
   "outputs": [
    {
     "data": {
      "text/plain": [
       "event_name\n",
       "navigate_click        4307557\n",
       "person_click          2301745\n",
       "cutscene_click        1027300\n",
       "object_click           836098\n",
       "object_hover           401821\n",
       "map_hover              359489\n",
       "notification_click     246669\n",
       "notebook_click         214037\n",
       "map_click              197044\n",
       "observation_click       81297\n",
       "checkpoint              26943\n",
       "Name: count, dtype: int64"
      ]
     },
     "execution_count": 14,
     "metadata": {},
     "output_type": "execute_result"
    }
   ],
   "source": [
    "df['event_name'].value_counts()"
   ]
  },
  {
   "cell_type": "code",
   "execution_count": 15,
   "id": "0fed799c-9eec-43d1-86b5-65d76b2509c3",
   "metadata": {},
   "outputs": [
    {
     "data": {
      "text/plain": [
       "['undefined', 'basic', 'close', 'open', 'next', 'prev']\n",
       "Categories (6, object): ['basic', 'close', 'next', 'open', 'prev', 'undefined']"
      ]
     },
     "execution_count": 15,
     "metadata": {},
     "output_type": "execute_result"
    }
   ],
   "source": [
    "df['name'].unique()"
   ]
  },
  {
   "cell_type": "code",
   "execution_count": 16,
   "id": "7714a079-4687-45ce-8809-5ea269ef879b",
   "metadata": {},
   "outputs": [
    {
     "data": {
      "text/plain": [
       "name\n",
       "undefined    4832356\n",
       "basic        4809566\n",
       "close         257329\n",
       "open           89170\n",
       "prev            7219\n",
       "next            4360\n",
       "Name: count, dtype: int64"
      ]
     },
     "execution_count": 16,
     "metadata": {},
     "output_type": "execute_result"
    }
   ],
   "source": [
    "df['name'].value_counts()"
   ]
  },
  {
   "cell_type": "code",
   "execution_count": 17,
   "id": "d5496e45-86a3-488c-9c8b-fe8731b43ceb",
   "metadata": {},
   "outputs": [
    {
     "data": {
      "text/plain": [
       "array([ 4, 13,  0, 15, 16, 11, 21,  3, 18,  6,  7, 17,  5, 19, 14, 10,  2,\n",
       "        8,  1,  9, 20, 12, 22], dtype=uint8)"
      ]
     },
     "execution_count": 17,
     "metadata": {},
     "output_type": "execute_result"
    }
   ],
   "source": [
    "df['level'].unique()"
   ]
  },
  {
   "cell_type": "code",
   "execution_count": 18,
   "id": "2aacb94b-23de-427a-a235-221308e7823c",
   "metadata": {},
   "outputs": [
    {
     "data": {
      "text/plain": [
       "level\n",
       "18    1329954\n",
       "6      804659\n",
       "21     801466\n",
       "11     736257\n",
       "16     492390\n",
       "7      486099\n",
       "15     464025\n",
       "19     463486\n",
       "17     459321\n",
       "3      435593\n",
       "9      432670\n",
       "20     429508\n",
       "2      377379\n",
       "8      338548\n",
       "13     312821\n",
       "1      276822\n",
       "0      262779\n",
       "5      254331\n",
       "14     209026\n",
       "10     170819\n",
       "4      162958\n",
       "22     159554\n",
       "12     139535\n",
       "Name: count, dtype: int64"
      ]
     },
     "execution_count": 18,
     "metadata": {},
     "output_type": "execute_result"
    }
   ],
   "source": [
    "df['level'].value_counts()"
   ]
  },
  {
   "cell_type": "code",
   "execution_count": 19,
   "id": "819af896-f029-4286-b407-ed88a251a12f",
   "metadata": {},
   "outputs": [
    {
     "data": {
      "text/plain": [
       "['tunic.kohlcenter.halloffame', 'tunic.historicalsociety.basement', 'tunic.historicalsociety.closet', 'tunic.library.frontdesk', 'tunic.historicalsociety.cage', ..., 'tunic.historicalsociety.collection', 'tunic.capitol_1.hall', 'tunic.drycleaner.frontdesk', 'tunic.capitol_2.hall', 'tunic.flaghouse.entry']\n",
       "Length: 19\n",
       "Categories (19, object): ['tunic.capitol_0.hall', 'tunic.capitol_1.hall', 'tunic.capitol_2.hall', 'tunic.drycleaner.frontdesk', ..., 'tunic.kohlcenter.halloffame', 'tunic.library.frontdesk', 'tunic.library.microfiche', 'tunic.wildlife.center']"
      ]
     },
     "execution_count": 19,
     "metadata": {},
     "output_type": "execute_result"
    }
   ],
   "source": [
    "df['room_fqid'].unique()"
   ]
  },
  {
   "cell_type": "code",
   "execution_count": 20,
   "id": "bdc26407-226d-48e7-8fb6-a1ba8e935808",
   "metadata": {},
   "outputs": [
    {
     "data": {
      "text/plain": [
       "room_fqid\n",
       "tunic.historicalsociety.entry              1377891\n",
       "tunic.wildlife.center                      1145190\n",
       "tunic.historicalsociety.cage                893933\n",
       "tunic.library.frontdesk                     816927\n",
       "tunic.historicalsociety.frontdesk           739314\n",
       "tunic.historicalsociety.stacks              681870\n",
       "tunic.historicalsociety.closet_dirty        595933\n",
       "tunic.humanecology.frontdesk                504769\n",
       "tunic.historicalsociety.basement            443686\n",
       "tunic.kohlcenter.halloffame                 417815\n",
       "tunic.library.microfiche                    378359\n",
       "tunic.drycleaner.frontdesk                  373154\n",
       "tunic.historicalsociety.collection          363925\n",
       "tunic.historicalsociety.closet              326807\n",
       "tunic.flaghouse.entry                       317687\n",
       "tunic.historicalsociety.collection_flag     171829\n",
       "tunic.capitol_1.hall                        168768\n",
       "tunic.capitol_0.hall                        158603\n",
       "tunic.capitol_2.hall                        123540\n",
       "Name: count, dtype: int64"
      ]
     },
     "execution_count": 20,
     "metadata": {},
     "output_type": "execute_result"
    }
   ],
   "source": [
    "df['room_fqid'].value_counts()"
   ]
  },
  {
   "cell_type": "code",
   "execution_count": 21,
   "id": "c75ae8e4-5d68-4a18-a1f1-f3488ef959d1",
   "metadata": {},
   "outputs": [
    {
     "data": {
      "text/plain": [
       "['0-4', '13-22', '5-12']\n",
       "Categories (3, object): ['0-4', '13-22', '5-12']"
      ]
     },
     "execution_count": 21,
     "metadata": {},
     "output_type": "execute_result"
    }
   ],
   "source": [
    "df['level_group'].unique()"
   ]
  },
  {
   "cell_type": "code",
   "execution_count": 22,
   "id": "184db291-eee5-48ee-af02-e6feff421030",
   "metadata": {},
   "outputs": [
    {
     "data": {
      "text/plain": [
       "level_group\n",
       "13-22    5121551\n",
       "5-12     3362918\n",
       "0-4      1515531\n",
       "Name: count, dtype: int64"
      ]
     },
     "execution_count": 22,
     "metadata": {},
     "output_type": "execute_result"
    }
   ],
   "source": [
    "df['level_group'].value_counts()"
   ]
  },
  {
   "cell_type": "code",
   "execution_count": 23,
   "id": "24672bac-f832-46e1-bf3b-225ce3420d7f",
   "metadata": {},
   "outputs": [
    {
     "data": {
      "image/png": "[encoded data removed]",
      "text/plain": [
       "<Figure size 1400x1400 with 9 Axes>"
      ]
     },
     "metadata": {},
     "output_type": "display_data"
    }
   ],
   "source": [
    "df.hist(bins =25 , figsize= (14,14), color=\"green\")\n",
    "plt.show()"
   ]
  },
  {
   "cell_type": "code",
   "execution_count": 24,
   "id": "7cb8b9a9-7bd8-4f1a-91a1-32aed2c41666",
   "metadata": {
    "scrolled": true
   },
   "outputs": [
    {
     "data": {
      "image/png": "[encoded data removed]",
      "text/plain": [
       "<Figure size 640x480 with 1 Axes>"
      ]
     },
     "metadata": {},
     "output_type": "display_data"
    },
    {
     "data": {
      "image/png": "[encoded data removed]",
      "text/plain": [
       "<Figure size 640x480 with 1 Axes>"
      ]
     },
     "metadata": {},
     "output_type": "display_data"
    },
    {
     "data": {
      "image/png": "[encoded data removed]",
      "text/plain": [
       "<Figure size 640x480 with 1 Axes>"
      ]
     },
     "metadata": {},
     "output_type": "display_data"
    },
    {
     "data": {
      "image/png": "[encoded data removed]",
      "text/plain": [
       "<Figure size 640x480 with 1 Axes>"
      ]
     },
     "metadata": {},
     "output_type": "display_data"
    }
   ],
   "source": [
    "categories = ['event_name', 'name', 'room_fqid', 'level_group']\n",
    "\n",
    "for category in categories:\n",
    "    sns.countplot(x=category, data=df)\n",
    "    plt.title(f\"Count Plot for {category}\")\n",
    "    plt.show()"
   ]
  },
  {
   "cell_type": "markdown",
   "id": "2861b487-3745-4343-b145-d327bddf4449",
   "metadata": {},
   "source": [
    "Start looking at the train_labels dataset that is used to determine whether a question was answered correctly"
   ]
  },
  {
   "cell_type": "code",
   "execution_count": 25,
   "id": "6105a838-3181-441a-9836-62176efde60c",
   "metadata": {},
   "outputs": [],
   "source": [
    "labels = pd.read_csv(\"train_labels.csv\")"
   ]
  },
  {
   "cell_type": "code",
   "execution_count": 26,
   "id": "2c14eca0-e803-4d5f-a1bd-3a02ea249c8d",
   "metadata": {},
   "outputs": [],
   "source": [
    "labels['session'] = labels.session_id.apply(lambda x: int(x.split('_')[0]) )\n",
    "labels['q'] = labels.session_id.apply(lambda x: int(x.split('_')[-1][1:]) )\n"
   ]
  },
  {
   "cell_type": "code",
   "execution_count": 27,
   "id": "9ced63ed-e2ff-482a-b554-3d273126be96",
   "metadata": {},
   "outputs": [
    {
     "data": {
      "text/html": [
       "<div>\n",
       "<style scoped>\n",
       "    .dataframe tbody tr th:only-of-type {\n",
       "        vertical-align: middle;\n",
       "    }\n",
       "\n",
       "    .dataframe tbody tr th {\n",
       "        vertical-align: top;\n",
       "    }\n",
       "\n",
       "    .dataframe thead th {\n",
       "        text-align: right;\n",
       "    }\n",
       "</style>\n",
       "<table border=\"1\" class=\"dataframe\">\n",
       "  <thead>\n",
       "    <tr style=\"text-align: right;\">\n",
       "      <th></th>\n",
       "      <th>session_id</th>\n",
       "      <th>correct</th>\n",
       "      <th>session</th>\n",
       "      <th>q</th>\n",
       "    </tr>\n",
       "  </thead>\n",
       "  <tbody>\n",
       "    <tr>\n",
       "      <th>0</th>\n",
       "      <td>20090312431273200_q1</td>\n",
       "      <td>1</td>\n",
       "      <td>20090312431273200</td>\n",
       "      <td>1</td>\n",
       "    </tr>\n",
       "    <tr>\n",
       "      <th>1</th>\n",
       "      <td>20090312433251036_q1</td>\n",
       "      <td>0</td>\n",
       "      <td>20090312433251036</td>\n",
       "      <td>1</td>\n",
       "    </tr>\n",
       "    <tr>\n",
       "      <th>2</th>\n",
       "      <td>20090312455206810_q1</td>\n",
       "      <td>1</td>\n",
       "      <td>20090312455206810</td>\n",
       "      <td>1</td>\n",
       "    </tr>\n",
       "    <tr>\n",
       "      <th>3</th>\n",
       "      <td>20090313091715820_q1</td>\n",
       "      <td>0</td>\n",
       "      <td>20090313091715820</td>\n",
       "      <td>1</td>\n",
       "    </tr>\n",
       "    <tr>\n",
       "      <th>4</th>\n",
       "      <td>20090313571836404_q1</td>\n",
       "      <td>1</td>\n",
       "      <td>20090313571836404</td>\n",
       "      <td>1</td>\n",
       "    </tr>\n",
       "  </tbody>\n",
       "</table>\n",
       "</div>"
      ],
      "text/plain": [
       "             session_id  correct            session  q\n",
       "0  20090312431273200_q1        1  20090312431273200  1\n",
       "1  20090312433251036_q1        0  20090312433251036  1\n",
       "2  20090312455206810_q1        1  20090312455206810  1\n",
       "3  20090313091715820_q1        0  20090313091715820  1\n",
       "4  20090313571836404_q1        1  20090313571836404  1"
      ]
     },
     "execution_count": 27,
     "metadata": {},
     "output_type": "execute_result"
    }
   ],
   "source": [
    "labels.head()"
   ]
  },
  {
   "cell_type": "code",
   "execution_count": 28,
   "id": "fc5a7a20-1581-44d0-818b-c2bcc3bc9804",
   "metadata": {},
   "outputs": [
    {
     "data": {
      "text/plain": [
       "session_id    0\n",
       "correct       0\n",
       "session       0\n",
       "q             0\n",
       "dtype: int64"
      ]
     },
     "execution_count": 28,
     "metadata": {},
     "output_type": "execute_result"
    }
   ],
   "source": [
    "labels.isnull().sum()"
   ]
  },
  {
   "cell_type": "code",
   "execution_count": 29,
   "id": "99c08e65-0acc-4393-9252-355310ff1176",
   "metadata": {},
   "outputs": [
    {
     "data": {
      "text/plain": [
       "(424116, 4)"
      ]
     },
     "execution_count": 29,
     "metadata": {},
     "output_type": "execute_result"
    }
   ],
   "source": [
    "labels.shape"
   ]
  },
  {
   "cell_type": "code",
   "execution_count": 30,
   "id": "35b39a9c-154e-4af6-9add-ddfa63d63ee6",
   "metadata": {},
   "outputs": [
    {
     "name": "stdout",
     "output_type": "stream",
     "text": [
      "<class 'pandas.core.frame.DataFrame'>\n",
      "RangeIndex: 424116 entries, 0 to 424115\n",
      "Data columns (total 4 columns):\n",
      " #   Column      Non-Null Count   Dtype \n",
      "---  ------      --------------   ----- \n",
      " 0   session_id  424116 non-null  object\n",
      " 1   correct     424116 non-null  int64 \n",
      " 2   session     424116 non-null  int64 \n",
      " 3   q           424116 non-null  int64 \n",
      "dtypes: int64(3), object(1)\n",
      "memory usage: 12.9+ MB\n"
     ]
    }
   ],
   "source": [
    "labels.info()"
   ]
  },
  {
   "cell_type": "code",
   "execution_count": 31,
   "id": "8d1f2b8c-bbc8-4c53-8966-bb18e9da0b77",
   "metadata": {},
   "outputs": [
    {
     "data": {
      "image/png": "[encoded data removed]",
      "text/plain": [
       "<Figure size 500x300 with 1 Axes>"
      ]
     },
     "metadata": {},
     "output_type": "display_data"
    }
   ],
   "source": [
    "plt.figure(figsize=(5, 3))\n",
    "plot_df = labels.correct.value_counts()\n",
    "plot_df.plot(kind=\"bar\")\n",
    "plt.xlabel('Correct')\n",
    "plt.show()"
   ]
  },
  {
   "cell_type": "code",
   "execution_count": 32,
   "id": "5b82affb-d6ac-41e0-90a9-7d5216da711b",
   "metadata": {},
   "outputs": [
    {
     "data": {
      "text/plain": [
       "correct\n",
       "1    299271\n",
       "0    124845\n",
       "Name: count, dtype: int64"
      ]
     },
     "execution_count": 32,
     "metadata": {},
     "output_type": "execute_result"
    }
   ],
   "source": [
    "plot_df"
   ]
  },
  {
   "cell_type": "code",
   "execution_count": 33,
   "id": "82573597-8771-443d-b23f-63824b1343be",
   "metadata": {},
   "outputs": [
    {
     "data": {
      "image/png": "[encoded data removed]",
      "text/plain": [
       "<Figure size 1000x2000 with 18 Axes>"
      ]
     },
     "metadata": {},
     "output_type": "display_data"
    }
   ],
   "source": [
    "plt.figure(figsize=(10, 20))\n",
    "plt.subplots_adjust(hspace=0.5, wspace=0.5)\n",
    "plt.suptitle(\"\\\"Correct\\\" column values for each question\", fontsize=14, y=0.94)\n",
    "for n in range(1,19):\n",
    "    ax = plt.subplot(6, 3, n)\n",
    "\n",
    "    # filter df and plot ticker on the new subplot axis\n",
    "    plot_df = labels.loc[labels.q == n]\n",
    "    plot_df = plot_df.correct.value_counts()\n",
    "    plot_df.plot(ax=ax, kind=\"bar\", color=['b', 'r'])\n",
    "    \n",
    "    # chart formatting\n",
    "    ax.set_title(\"Question \" + str(n))\n",
    "    ax.set_xlabel(\"\")"
   ]
  },
  {
   "cell_type": "code",
   "execution_count": 45,
   "id": "9a5873a8-b6e0-4b82-b566-1ba8fa2fa66b",
   "metadata": {},
   "outputs": [],
   "source": [
    "df=df.dropna()"
   ]
  },
  {
   "cell_type": "code",
   "execution_count": 46,
   "id": "4dbe6caa-4954-4a8b-9acf-faf0154a9dea",
   "metadata": {},
   "outputs": [
    {
     "data": {
      "text/plain": [
       "level_group            0\n",
       "event_name_nunique     0\n",
       "name_nunique           0\n",
       "room_fqid_nunique      0\n",
       "level_group_nunique    0\n",
       "elapsed_time           0\n",
       "level                  0\n",
       "room_coor_x            0\n",
       "room_coor_y            0\n",
       "screen_coor_x          0\n",
       "screen_coor_x          0\n",
       "elapsed_time_std       0\n",
       "level_std              0\n",
       "room_coor_x_std        0\n",
       "room_coor_y_std        0\n",
       "screen_coor_x_std      0\n",
       "screen_coor_x_std      0\n",
       "dtype: int64"
      ]
     },
     "execution_count": 46,
     "metadata": {},
     "output_type": "execute_result"
    }
   ],
   "source": [
    "df.isnull().sum()"
   ]
  },
  {
   "cell_type": "code",
   "execution_count": 50,
   "id": "5c0f79c6-d2c0-4c94-bcad-5eb348f93781",
   "metadata": {},
   "outputs": [
    {
     "data": {
      "text/html": [
       "<div>\n",
       "<style scoped>\n",
       "    .dataframe tbody tr th:only-of-type {\n",
       "        vertical-align: middle;\n",
       "    }\n",
       "\n",
       "    .dataframe tbody tr th {\n",
       "        vertical-align: top;\n",
       "    }\n",
       "\n",
       "    .dataframe thead th {\n",
       "        text-align: right;\n",
       "    }\n",
       "</style>\n",
       "<table border=\"1\" class=\"dataframe\">\n",
       "  <thead>\n",
       "    <tr style=\"text-align: right;\">\n",
       "      <th></th>\n",
       "      <th>level_group</th>\n",
       "      <th>event_name_nunique</th>\n",
       "      <th>name_nunique</th>\n",
       "      <th>room_fqid_nunique</th>\n",
       "      <th>level_group_nunique</th>\n",
       "      <th>elapsed_time</th>\n",
       "      <th>level</th>\n",
       "      <th>room_coor_x</th>\n",
       "      <th>room_coor_y</th>\n",
       "      <th>screen_coor_x</th>\n",
       "      <th>screen_coor_x</th>\n",
       "      <th>elapsed_time_std</th>\n",
       "      <th>level_std</th>\n",
       "      <th>room_coor_x_std</th>\n",
       "      <th>room_coor_y_std</th>\n",
       "      <th>screen_coor_x_std</th>\n",
       "      <th>screen_coor_x_std</th>\n",
       "    </tr>\n",
       "    <tr>\n",
       "      <th>session_id</th>\n",
       "      <th></th>\n",
       "      <th></th>\n",
       "      <th></th>\n",
       "      <th></th>\n",
       "      <th></th>\n",
       "      <th></th>\n",
       "      <th></th>\n",
       "      <th></th>\n",
       "      <th></th>\n",
       "      <th></th>\n",
       "      <th></th>\n",
       "      <th></th>\n",
       "      <th></th>\n",
       "      <th></th>\n",
       "      <th></th>\n",
       "      <th></th>\n",
       "      <th></th>\n",
       "    </tr>\n",
       "  </thead>\n",
       "  <tbody>\n",
       "    <tr>\n",
       "      <th>20090312431273200</th>\n",
       "      <td>0-4</td>\n",
       "      <td>7</td>\n",
       "      <td>3</td>\n",
       "      <td>7</td>\n",
       "      <td>1</td>\n",
       "      <td>-0.119103</td>\n",
       "      <td>-1.108580</td>\n",
       "      <td>NaN</td>\n",
       "      <td>NaN</td>\n",
       "      <td>NaN</td>\n",
       "      <td>NaN</td>\n",
       "      <td>0.001644</td>\n",
       "      <td>0.197109</td>\n",
       "      <td>-1.0</td>\n",
       "      <td>-1.0</td>\n",
       "      <td>-1.0</td>\n",
       "      <td>-1.0</td>\n",
       "    </tr>\n",
       "    <tr>\n",
       "      <th>20090312431273200</th>\n",
       "      <td>13-22</td>\n",
       "      <td>8</td>\n",
       "      <td>2</td>\n",
       "      <td>11</td>\n",
       "      <td>1</td>\n",
       "      <td>-0.077316</td>\n",
       "      <td>1.250489</td>\n",
       "      <td>NaN</td>\n",
       "      <td>NaN</td>\n",
       "      <td>NaN</td>\n",
       "      <td>NaN</td>\n",
       "      <td>0.003904</td>\n",
       "      <td>0.340763</td>\n",
       "      <td>-1.0</td>\n",
       "      <td>-1.0</td>\n",
       "      <td>-1.0</td>\n",
       "      <td>-1.0</td>\n",
       "    </tr>\n",
       "    <tr>\n",
       "      <th>20090312431273200</th>\n",
       "      <td>5-12</td>\n",
       "      <td>8</td>\n",
       "      <td>3</td>\n",
       "      <td>10</td>\n",
       "      <td>1</td>\n",
       "      <td>-0.107547</td>\n",
       "      <td>-0.199457</td>\n",
       "      <td>NaN</td>\n",
       "      <td>NaN</td>\n",
       "      <td>NaN</td>\n",
       "      <td>NaN</td>\n",
       "      <td>0.002604</td>\n",
       "      <td>0.321127</td>\n",
       "      <td>-1.0</td>\n",
       "      <td>-1.0</td>\n",
       "      <td>-1.0</td>\n",
       "      <td>-1.0</td>\n",
       "    </tr>\n",
       "    <tr>\n",
       "      <th>20090312433251036</th>\n",
       "      <td>0-4</td>\n",
       "      <td>9</td>\n",
       "      <td>3</td>\n",
       "      <td>6</td>\n",
       "      <td>1</td>\n",
       "      <td>-0.118626</td>\n",
       "      <td>-1.131121</td>\n",
       "      <td>NaN</td>\n",
       "      <td>NaN</td>\n",
       "      <td>NaN</td>\n",
       "      <td>NaN</td>\n",
       "      <td>0.002221</td>\n",
       "      <td>0.190368</td>\n",
       "      <td>-1.0</td>\n",
       "      <td>-1.0</td>\n",
       "      <td>-1.0</td>\n",
       "      <td>-1.0</td>\n",
       "    </tr>\n",
       "    <tr>\n",
       "      <th>20090312433251036</th>\n",
       "      <td>13-22</td>\n",
       "      <td>11</td>\n",
       "      <td>5</td>\n",
       "      <td>16</td>\n",
       "      <td>1</td>\n",
       "      <td>-0.014547</td>\n",
       "      <td>1.289416</td>\n",
       "      <td>NaN</td>\n",
       "      <td>NaN</td>\n",
       "      <td>NaN</td>\n",
       "      <td>NaN</td>\n",
       "      <td>0.024882</td>\n",
       "      <td>0.279891</td>\n",
       "      <td>-1.0</td>\n",
       "      <td>-1.0</td>\n",
       "      <td>-1.0</td>\n",
       "      <td>-1.0</td>\n",
       "    </tr>\n",
       "  </tbody>\n",
       "</table>\n",
       "</div>"
      ],
      "text/plain": [
       "                  level_group  event_name_nunique  name_nunique  \\\n",
       "session_id                                                        \n",
       "20090312431273200         0-4                   7             3   \n",
       "20090312431273200       13-22                   8             2   \n",
       "20090312431273200        5-12                   8             3   \n",
       "20090312433251036         0-4                   9             3   \n",
       "20090312433251036       13-22                  11             5   \n",
       "\n",
       "                   room_fqid_nunique  level_group_nunique  elapsed_time  \\\n",
       "session_id                                                                \n",
       "20090312431273200                  7                    1     -0.119103   \n",
       "20090312431273200                 11                    1     -0.077316   \n",
       "20090312431273200                 10                    1     -0.107547   \n",
       "20090312433251036                  6                    1     -0.118626   \n",
       "20090312433251036                 16                    1     -0.014547   \n",
       "\n",
       "                      level  room_coor_x  room_coor_y  screen_coor_x  \\\n",
       "session_id                                                             \n",
       "20090312431273200 -1.108580          NaN          NaN            NaN   \n",
       "20090312431273200  1.250489          NaN          NaN            NaN   \n",
       "20090312431273200 -0.199457          NaN          NaN            NaN   \n",
       "20090312433251036 -1.131121          NaN          NaN            NaN   \n",
       "20090312433251036  1.289416          NaN          NaN            NaN   \n",
       "\n",
       "                   screen_coor_x  elapsed_time_std  level_std  \\\n",
       "session_id                                                      \n",
       "20090312431273200            NaN          0.001644   0.197109   \n",
       "20090312431273200            NaN          0.003904   0.340763   \n",
       "20090312431273200            NaN          0.002604   0.321127   \n",
       "20090312433251036            NaN          0.002221   0.190368   \n",
       "20090312433251036            NaN          0.024882   0.279891   \n",
       "\n",
       "                   room_coor_x_std  room_coor_y_std  screen_coor_x_std  \\\n",
       "session_id                                                               \n",
       "20090312431273200             -1.0             -1.0               -1.0   \n",
       "20090312431273200             -1.0             -1.0               -1.0   \n",
       "20090312431273200             -1.0             -1.0               -1.0   \n",
       "20090312433251036             -1.0             -1.0               -1.0   \n",
       "20090312433251036             -1.0             -1.0               -1.0   \n",
       "\n",
       "                   screen_coor_x_std  \n",
       "session_id                            \n",
       "20090312431273200               -1.0  \n",
       "20090312431273200               -1.0  \n",
       "20090312431273200               -1.0  \n",
       "20090312433251036               -1.0  \n",
       "20090312433251036               -1.0  "
      ]
     },
     "execution_count": 50,
     "metadata": {},
     "output_type": "execute_result"
    }
   ],
   "source": [
    "#Use zscore to find and get rid of outliers\n",
    "# revizualize data \n",
    "#Standardizing new dataframe\n",
    "from scipy import stats\n",
    "for col in numerical:\n",
    "    df[col] = stats.zscore(df[col])\n",
    "df.head()"
   ]
  },
  {
   "cell_type": "code",
   "execution_count": 49,
   "id": "3b4df635-b415-42c0-9ec9-e8cf7ede5468",
   "metadata": {},
   "outputs": [
    {
     "data": {
      "text/plain": [
       "(70686, 17)"
      ]
     },
     "execution_count": 49,
     "metadata": {},
     "output_type": "execute_result"
    }
   ],
   "source": [
    "df.shape"
   ]
  },
  {
   "cell_type": "code",
   "execution_count": null,
   "id": "7954d5d2-0031-4070-af88-d540b51abb57",
   "metadata": {},
   "outputs": [],
   "source": [
    "df.hist(bins =25 , figsize= (14,14), color=\"blue\")\n",
    "plt.show()"
   ]
  },
  {
   "cell_type": "code",
   "execution_count": 37,
   "id": "b2532bc4-527a-468f-8bbb-cdc2e59aba0f",
   "metadata": {},
   "outputs": [],
   "source": [
    "def feature_engineer(dataset_df):\n",
    "    dfs = []\n",
    "    for n in numerical:\n",
    "        tmp = dataset_df.groupby(['session_id','level_group'])[c].agg('mean')\n",
    "        dfs.append(tmp)\n",
    "    for n in numerical:\n",
    "        tmp = dataset_df.groupby(['session_id','level_group'])[c].agg('std')\n",
    "        tmp.name = tmp.name + '_std'\n",
    "        dfs.append(tmp)\n",
    "    dataset_df = pd.concat(dfs,axis=1)\n",
    "    dataset_df = dataset_df.fillna(-1)\n",
    "    dataset_df = dataset_df.reset_index()\n",
    "    dataset_df = dataset_df.set_index('session_id')\n",
    "    return dataset_df"
   ]
  },
  {
   "cell_type": "code",
   "execution_count": 38,
   "id": "c90f365d-d9cb-46a6-8209-f5c441e31ee7",
   "metadata": {},
   "outputs": [
    {
     "name": "stderr",
     "output_type": "stream",
     "text": [
      "/tmp/ipykernel_9845/2564974063.py:4: FutureWarning: The default of observed=False is deprecated and will be changed to True in a future version of pandas. Pass observed=False to retain current behavior or observed=True to adopt the future default and silence this warning.\n",
      "  tmp = dataset_df.groupby(['session_id','level_group'])[c].agg('nunique')\n",
      "/tmp/ipykernel_9845/2564974063.py:8: FutureWarning: The default of observed=False is deprecated and will be changed to True in a future version of pandas. Pass observed=False to retain current behavior or observed=True to adopt the future default and silence this warning.\n",
      "  tmp = dataset_df.groupby(['session_id','level_group'])[c].agg('mean')\n",
      "/tmp/ipykernel_9845/2564974063.py:11: FutureWarning: The default of observed=False is deprecated and will be changed to True in a future version of pandas. Pass observed=False to retain current behavior or observed=True to adopt the future default and silence this warning.\n",
      "  tmp = dataset_df.groupby(['session_id','level_group'])[c].agg('std')\n",
      "/tmp/ipykernel_9845/2564974063.py:11: FutureWarning: The default of observed=False is deprecated and will be changed to True in a future version of pandas. Pass observed=False to retain current behavior or observed=True to adopt the future default and silence this warning.\n",
      "  tmp = dataset_df.groupby(['session_id','level_group'])[c].agg('std')\n",
      "/tmp/ipykernel_9845/2564974063.py:11: FutureWarning: The default of observed=False is deprecated and will be changed to True in a future version of pandas. Pass observed=False to retain current behavior or observed=True to adopt the future default and silence this warning.\n",
      "  tmp = dataset_df.groupby(['session_id','level_group'])[c].agg('std')\n",
      "/tmp/ipykernel_9845/2564974063.py:11: FutureWarning: The default of observed=False is deprecated and will be changed to True in a future version of pandas. Pass observed=False to retain current behavior or observed=True to adopt the future default and silence this warning.\n",
      "  tmp = dataset_df.groupby(['session_id','level_group'])[c].agg('std')\n"
     ]
    },
    {
     "name": "stdout",
     "output_type": "stream",
     "text": [
      "Full prepared dataset shape is (70686, 17)\n"
     ]
    }
   ],
   "source": [
    "df = feature_engineer(df)\n",
    "print(\"Full prepared dataset shape is {}\".format(df.shape))"
   ]
  },
  {
   "cell_type": "code",
   "execution_count": 39,
   "id": "bb58691f-4dc4-47d8-aea2-611f1b796e84",
   "metadata": {},
   "outputs": [
    {
     "data": {
      "text/html": [
       "<div>\n",
       "<style scoped>\n",
       "    .dataframe tbody tr th:only-of-type {\n",
       "        vertical-align: middle;\n",
       "    }\n",
       "\n",
       "    .dataframe tbody tr th {\n",
       "        vertical-align: top;\n",
       "    }\n",
       "\n",
       "    .dataframe thead th {\n",
       "        text-align: right;\n",
       "    }\n",
       "</style>\n",
       "<table border=\"1\" class=\"dataframe\">\n",
       "  <thead>\n",
       "    <tr style=\"text-align: right;\">\n",
       "      <th></th>\n",
       "      <th>level_group</th>\n",
       "      <th>event_name_nunique</th>\n",
       "      <th>name_nunique</th>\n",
       "      <th>room_fqid_nunique</th>\n",
       "      <th>level_group_nunique</th>\n",
       "      <th>elapsed_time</th>\n",
       "      <th>level</th>\n",
       "      <th>room_coor_x</th>\n",
       "      <th>room_coor_y</th>\n",
       "      <th>screen_coor_x</th>\n",
       "      <th>screen_coor_x</th>\n",
       "      <th>elapsed_time_std</th>\n",
       "      <th>level_std</th>\n",
       "      <th>room_coor_x_std</th>\n",
       "      <th>room_coor_y_std</th>\n",
       "      <th>screen_coor_x_std</th>\n",
       "      <th>screen_coor_x_std</th>\n",
       "    </tr>\n",
       "    <tr>\n",
       "      <th>session_id</th>\n",
       "      <th></th>\n",
       "      <th></th>\n",
       "      <th></th>\n",
       "      <th></th>\n",
       "      <th></th>\n",
       "      <th></th>\n",
       "      <th></th>\n",
       "      <th></th>\n",
       "      <th></th>\n",
       "      <th></th>\n",
       "      <th></th>\n",
       "      <th></th>\n",
       "      <th></th>\n",
       "      <th></th>\n",
       "      <th></th>\n",
       "      <th></th>\n",
       "      <th></th>\n",
       "    </tr>\n",
       "  </thead>\n",
       "  <tbody>\n",
       "    <tr>\n",
       "      <th>20090312431273200</th>\n",
       "      <td>0-4</td>\n",
       "      <td>7</td>\n",
       "      <td>3</td>\n",
       "      <td>7</td>\n",
       "      <td>1</td>\n",
       "      <td>-0.125906</td>\n",
       "      <td>-1.555974</td>\n",
       "      <td>-1.0</td>\n",
       "      <td>-1.0</td>\n",
       "      <td>-1.0</td>\n",
       "      <td>-1.0</td>\n",
       "      <td>0.001644</td>\n",
       "      <td>0.197109</td>\n",
       "      <td>-1.0</td>\n",
       "      <td>-1.0</td>\n",
       "      <td>-1.0</td>\n",
       "      <td>-1.0</td>\n",
       "    </tr>\n",
       "    <tr>\n",
       "      <th>20090312431273200</th>\n",
       "      <td>13-22</td>\n",
       "      <td>8</td>\n",
       "      <td>2</td>\n",
       "      <td>11</td>\n",
       "      <td>1</td>\n",
       "      <td>-0.095245</td>\n",
       "      <td>0.812738</td>\n",
       "      <td>-1.0</td>\n",
       "      <td>-1.0</td>\n",
       "      <td>-1.0</td>\n",
       "      <td>-1.0</td>\n",
       "      <td>0.003904</td>\n",
       "      <td>0.340763</td>\n",
       "      <td>-1.0</td>\n",
       "      <td>-1.0</td>\n",
       "      <td>-1.0</td>\n",
       "      <td>-1.0</td>\n",
       "    </tr>\n",
       "    <tr>\n",
       "      <th>20090312431273200</th>\n",
       "      <td>5-12</td>\n",
       "      <td>8</td>\n",
       "      <td>3</td>\n",
       "      <td>10</td>\n",
       "      <td>1</td>\n",
       "      <td>-0.117427</td>\n",
       "      <td>-0.643135</td>\n",
       "      <td>-1.0</td>\n",
       "      <td>-1.0</td>\n",
       "      <td>-1.0</td>\n",
       "      <td>-1.0</td>\n",
       "      <td>0.002604</td>\n",
       "      <td>0.321127</td>\n",
       "      <td>-1.0</td>\n",
       "      <td>-1.0</td>\n",
       "      <td>-1.0</td>\n",
       "      <td>-1.0</td>\n",
       "    </tr>\n",
       "    <tr>\n",
       "      <th>20090312433251036</th>\n",
       "      <td>0-4</td>\n",
       "      <td>9</td>\n",
       "      <td>3</td>\n",
       "      <td>6</td>\n",
       "      <td>1</td>\n",
       "      <td>-0.125556</td>\n",
       "      <td>-1.578608</td>\n",
       "      <td>-1.0</td>\n",
       "      <td>-1.0</td>\n",
       "      <td>-1.0</td>\n",
       "      <td>-1.0</td>\n",
       "      <td>0.002221</td>\n",
       "      <td>0.190368</td>\n",
       "      <td>-1.0</td>\n",
       "      <td>-1.0</td>\n",
       "      <td>-1.0</td>\n",
       "      <td>-1.0</td>\n",
       "    </tr>\n",
       "    <tr>\n",
       "      <th>20090312433251036</th>\n",
       "      <td>13-22</td>\n",
       "      <td>11</td>\n",
       "      <td>5</td>\n",
       "      <td>16</td>\n",
       "      <td>1</td>\n",
       "      <td>-0.049190</td>\n",
       "      <td>0.851825</td>\n",
       "      <td>-1.0</td>\n",
       "      <td>-1.0</td>\n",
       "      <td>-1.0</td>\n",
       "      <td>-1.0</td>\n",
       "      <td>0.024882</td>\n",
       "      <td>0.279891</td>\n",
       "      <td>-1.0</td>\n",
       "      <td>-1.0</td>\n",
       "      <td>-1.0</td>\n",
       "      <td>-1.0</td>\n",
       "    </tr>\n",
       "  </tbody>\n",
       "</table>\n",
       "</div>"
      ],
      "text/plain": [
       "                  level_group  event_name_nunique  name_nunique  \\\n",
       "session_id                                                        \n",
       "20090312431273200         0-4                   7             3   \n",
       "20090312431273200       13-22                   8             2   \n",
       "20090312431273200        5-12                   8             3   \n",
       "20090312433251036         0-4                   9             3   \n",
       "20090312433251036       13-22                  11             5   \n",
       "\n",
       "                   room_fqid_nunique  level_group_nunique  elapsed_time  \\\n",
       "session_id                                                                \n",
       "20090312431273200                  7                    1     -0.125906   \n",
       "20090312431273200                 11                    1     -0.095245   \n",
       "20090312431273200                 10                    1     -0.117427   \n",
       "20090312433251036                  6                    1     -0.125556   \n",
       "20090312433251036                 16                    1     -0.049190   \n",
       "\n",
       "                      level  room_coor_x  room_coor_y  screen_coor_x  \\\n",
       "session_id                                                             \n",
       "20090312431273200 -1.555974         -1.0         -1.0           -1.0   \n",
       "20090312431273200  0.812738         -1.0         -1.0           -1.0   \n",
       "20090312431273200 -0.643135         -1.0         -1.0           -1.0   \n",
       "20090312433251036 -1.578608         -1.0         -1.0           -1.0   \n",
       "20090312433251036  0.851825         -1.0         -1.0           -1.0   \n",
       "\n",
       "                   screen_coor_x  elapsed_time_std  level_std  \\\n",
       "session_id                                                      \n",
       "20090312431273200           -1.0          0.001644   0.197109   \n",
       "20090312431273200           -1.0          0.003904   0.340763   \n",
       "20090312431273200           -1.0          0.002604   0.321127   \n",
       "20090312433251036           -1.0          0.002221   0.190368   \n",
       "20090312433251036           -1.0          0.024882   0.279891   \n",
       "\n",
       "                   room_coor_x_std  room_coor_y_std  screen_coor_x_std  \\\n",
       "session_id                                                               \n",
       "20090312431273200             -1.0             -1.0               -1.0   \n",
       "20090312431273200             -1.0             -1.0               -1.0   \n",
       "20090312431273200             -1.0             -1.0               -1.0   \n",
       "20090312433251036             -1.0             -1.0               -1.0   \n",
       "20090312433251036             -1.0             -1.0               -1.0   \n",
       "\n",
       "                   screen_coor_x_std  \n",
       "session_id                            \n",
       "20090312431273200               -1.0  \n",
       "20090312431273200               -1.0  \n",
       "20090312431273200               -1.0  \n",
       "20090312433251036               -1.0  \n",
       "20090312433251036               -1.0  "
      ]
     },
     "execution_count": 39,
     "metadata": {},
     "output_type": "execute_result"
    }
   ],
   "source": [
    "df.head()"
   ]
  },
  {
   "cell_type": "code",
   "execution_count": 40,
   "id": "a5d981d5-70bf-48ad-9426-15b1865f14ff",
   "metadata": {},
   "outputs": [
    {
     "data": {
      "text/html": [
       "<div>\n",
       "<style scoped>\n",
       "    .dataframe tbody tr th:only-of-type {\n",
       "        vertical-align: middle;\n",
       "    }\n",
       "\n",
       "    .dataframe tbody tr th {\n",
       "        vertical-align: top;\n",
       "    }\n",
       "\n",
       "    .dataframe thead th {\n",
       "        text-align: right;\n",
       "    }\n",
       "</style>\n",
       "<table border=\"1\" class=\"dataframe\">\n",
       "  <thead>\n",
       "    <tr style=\"text-align: right;\">\n",
       "      <th></th>\n",
       "      <th>event_name_nunique</th>\n",
       "      <th>name_nunique</th>\n",
       "      <th>room_fqid_nunique</th>\n",
       "      <th>level_group_nunique</th>\n",
       "      <th>elapsed_time</th>\n",
       "      <th>level</th>\n",
       "      <th>room_coor_x</th>\n",
       "      <th>room_coor_y</th>\n",
       "      <th>screen_coor_x</th>\n",
       "      <th>screen_coor_x</th>\n",
       "      <th>elapsed_time_std</th>\n",
       "      <th>level_std</th>\n",
       "      <th>room_coor_x_std</th>\n",
       "      <th>room_coor_y_std</th>\n",
       "      <th>screen_coor_x_std</th>\n",
       "      <th>screen_coor_x_std</th>\n",
       "    </tr>\n",
       "  </thead>\n",
       "  <tbody>\n",
       "    <tr>\n",
       "      <th>count</th>\n",
       "      <td>70686.000000</td>\n",
       "      <td>70686.000000</td>\n",
       "      <td>70686.000000</td>\n",
       "      <td>70686.0</td>\n",
       "      <td>70686.000000</td>\n",
       "      <td>70686.000000</td>\n",
       "      <td>70686.0</td>\n",
       "      <td>70686.0</td>\n",
       "      <td>70686.0</td>\n",
       "      <td>70686.0</td>\n",
       "      <td>70686.000000</td>\n",
       "      <td>70686.000000</td>\n",
       "      <td>70686.0</td>\n",
       "      <td>70686.0</td>\n",
       "      <td>70686.0</td>\n",
       "      <td>70686.0</td>\n",
       "    </tr>\n",
       "    <tr>\n",
       "      <th>mean</th>\n",
       "      <td>9.138868</td>\n",
       "      <td>3.568415</td>\n",
       "      <td>9.785460</td>\n",
       "      <td>1.0</td>\n",
       "      <td>-0.038516</td>\n",
       "      <td>-0.442862</td>\n",
       "      <td>-1.0</td>\n",
       "      <td>-1.0</td>\n",
       "      <td>-1.0</td>\n",
       "      <td>-1.0</td>\n",
       "      <td>0.029959</td>\n",
       "      <td>0.294688</td>\n",
       "      <td>-1.0</td>\n",
       "      <td>-1.0</td>\n",
       "      <td>-1.0</td>\n",
       "      <td>-1.0</td>\n",
       "    </tr>\n",
       "    <tr>\n",
       "      <th>std</th>\n",
       "      <td>1.284967</td>\n",
       "      <td>0.737161</td>\n",
       "      <td>3.135197</td>\n",
       "      <td>0.0</td>\n",
       "      <td>0.733742</td>\n",
       "      <td>1.004095</td>\n",
       "      <td>0.0</td>\n",
       "      <td>0.0</td>\n",
       "      <td>0.0</td>\n",
       "      <td>0.0</td>\n",
       "      <td>0.388360</td>\n",
       "      <td>0.076453</td>\n",
       "      <td>0.0</td>\n",
       "      <td>0.0</td>\n",
       "      <td>0.0</td>\n",
       "      <td>0.0</td>\n",
       "    </tr>\n",
       "    <tr>\n",
       "      <th>min</th>\n",
       "      <td>4.000000</td>\n",
       "      <td>2.000000</td>\n",
       "      <td>3.000000</td>\n",
       "      <td>1.0</td>\n",
       "      <td>-0.128850</td>\n",
       "      <td>-1.733291</td>\n",
       "      <td>-1.0</td>\n",
       "      <td>-1.0</td>\n",
       "      <td>-1.0</td>\n",
       "      <td>-1.0</td>\n",
       "      <td>0.000007</td>\n",
       "      <td>0.097636</td>\n",
       "      <td>-1.0</td>\n",
       "      <td>-1.0</td>\n",
       "      <td>-1.0</td>\n",
       "      <td>-1.0</td>\n",
       "    </tr>\n",
       "    <tr>\n",
       "      <th>25%</th>\n",
       "      <td>8.000000</td>\n",
       "      <td>3.000000</td>\n",
       "      <td>6.000000</td>\n",
       "      <td>1.0</td>\n",
       "      <td>-0.123569</td>\n",
       "      <td>-1.554430</td>\n",
       "      <td>-1.0</td>\n",
       "      <td>-1.0</td>\n",
       "      <td>-1.0</td>\n",
       "      <td>-1.0</td>\n",
       "      <td>0.002644</td>\n",
       "      <td>0.202384</td>\n",
       "      <td>-1.0</td>\n",
       "      <td>-1.0</td>\n",
       "      <td>-1.0</td>\n",
       "      <td>-1.0</td>\n",
       "    </tr>\n",
       "    <tr>\n",
       "      <th>50%</th>\n",
       "      <td>9.000000</td>\n",
       "      <td>4.000000</td>\n",
       "      <td>11.000000</td>\n",
       "      <td>1.0</td>\n",
       "      <td>-0.109917</td>\n",
       "      <td>-0.621714</td>\n",
       "      <td>-1.0</td>\n",
       "      <td>-1.0</td>\n",
       "      <td>-1.0</td>\n",
       "      <td>-1.0</td>\n",
       "      <td>0.004630</td>\n",
       "      <td>0.322808</td>\n",
       "      <td>-1.0</td>\n",
       "      <td>-1.0</td>\n",
       "      <td>-1.0</td>\n",
       "      <td>-1.0</td>\n",
       "    </tr>\n",
       "    <tr>\n",
       "      <th>75%</th>\n",
       "      <td>10.000000</td>\n",
       "      <td>4.000000</td>\n",
       "      <td>12.000000</td>\n",
       "      <td>1.0</td>\n",
       "      <td>-0.085376</td>\n",
       "      <td>0.826375</td>\n",
       "      <td>-1.0</td>\n",
       "      <td>-1.0</td>\n",
       "      <td>-1.0</td>\n",
       "      <td>-1.0</td>\n",
       "      <td>0.007201</td>\n",
       "      <td>0.354896</td>\n",
       "      <td>-1.0</td>\n",
       "      <td>-1.0</td>\n",
       "      <td>-1.0</td>\n",
       "      <td>-1.0</td>\n",
       "    </tr>\n",
       "    <tr>\n",
       "      <th>max</th>\n",
       "      <td>11.000000</td>\n",
       "      <td>6.000000</td>\n",
       "      <td>17.000000</td>\n",
       "      <td>1.0</td>\n",
       "      <td>38.232599</td>\n",
       "      <td>1.236432</td>\n",
       "      <td>-1.0</td>\n",
       "      <td>-1.0</td>\n",
       "      <td>-1.0</td>\n",
       "      <td>-1.0</td>\n",
       "      <td>31.797221</td>\n",
       "      <td>0.564653</td>\n",
       "      <td>-1.0</td>\n",
       "      <td>-1.0</td>\n",
       "      <td>-1.0</td>\n",
       "      <td>-1.0</td>\n",
       "    </tr>\n",
       "  </tbody>\n",
       "</table>\n",
       "</div>"
      ],
      "text/plain": [
       "       event_name_nunique  name_nunique  room_fqid_nunique  \\\n",
       "count        70686.000000  70686.000000       70686.000000   \n",
       "mean             9.138868      3.568415           9.785460   \n",
       "std              1.284967      0.737161           3.135197   \n",
       "min              4.000000      2.000000           3.000000   \n",
       "25%              8.000000      3.000000           6.000000   \n",
       "50%              9.000000      4.000000          11.000000   \n",
       "75%             10.000000      4.000000          12.000000   \n",
       "max             11.000000      6.000000          17.000000   \n",
       "\n",
       "       level_group_nunique  elapsed_time         level  room_coor_x  \\\n",
       "count              70686.0  70686.000000  70686.000000      70686.0   \n",
       "mean                   1.0     -0.038516     -0.442862         -1.0   \n",
       "std                    0.0      0.733742      1.004095          0.0   \n",
       "min                    1.0     -0.128850     -1.733291         -1.0   \n",
       "25%                    1.0     -0.123569     -1.554430         -1.0   \n",
       "50%                    1.0     -0.109917     -0.621714         -1.0   \n",
       "75%                    1.0     -0.085376      0.826375         -1.0   \n",
       "max                    1.0     38.232599      1.236432         -1.0   \n",
       "\n",
       "       room_coor_y  screen_coor_x  screen_coor_x  elapsed_time_std  \\\n",
       "count      70686.0        70686.0        70686.0      70686.000000   \n",
       "mean          -1.0           -1.0           -1.0          0.029959   \n",
       "std            0.0            0.0            0.0          0.388360   \n",
       "min           -1.0           -1.0           -1.0          0.000007   \n",
       "25%           -1.0           -1.0           -1.0          0.002644   \n",
       "50%           -1.0           -1.0           -1.0          0.004630   \n",
       "75%           -1.0           -1.0           -1.0          0.007201   \n",
       "max           -1.0           -1.0           -1.0         31.797221   \n",
       "\n",
       "          level_std  room_coor_x_std  room_coor_y_std  screen_coor_x_std  \\\n",
       "count  70686.000000          70686.0          70686.0            70686.0   \n",
       "mean       0.294688             -1.0             -1.0               -1.0   \n",
       "std        0.076453              0.0              0.0                0.0   \n",
       "min        0.097636             -1.0             -1.0               -1.0   \n",
       "25%        0.202384             -1.0             -1.0               -1.0   \n",
       "50%        0.322808             -1.0             -1.0               -1.0   \n",
       "75%        0.354896             -1.0             -1.0               -1.0   \n",
       "max        0.564653             -1.0             -1.0               -1.0   \n",
       "\n",
       "       screen_coor_x_std  \n",
       "count            70686.0  \n",
       "mean                -1.0  \n",
       "std                  0.0  \n",
       "min                 -1.0  \n",
       "25%                 -1.0  \n",
       "50%                 -1.0  \n",
       "75%                 -1.0  \n",
       "max                 -1.0  "
      ]
     },
     "execution_count": 40,
     "metadata": {},
     "output_type": "execute_result"
    }
   ],
   "source": [
    "df.describe()"
   ]
  },
  {
   "cell_type": "code",
   "execution_count": 41,
   "id": "5da61e0a-b52d-466f-86f4-7e1904b58620",
   "metadata": {},
   "outputs": [
    {
     "name": "stdout",
     "output_type": "stream",
     "text": [
      "56547 examples in training, 14139 examples in testing.\n"
     ]
    }
   ],
   "source": [
    "def split_dataset(dataset, test_ratio=0.20):\n",
    "    USER_LIST = dataset.index.unique()\n",
    "    split = int(len(USER_LIST) * (1 - 0.20))\n",
    "    return dataset.loc[USER_LIST[:split]], dataset.loc[USER_LIST[split:]]\n",
    "\n",
    "train_x, valid_x = split_dataset(df)\n",
    "print(\"{} examples in training, {} examples in testing.\".format(\n",
    "    len(train_x), len(valid_x)))"
   ]
  },
  {
   "cell_type": "code",
   "execution_count": 42,
   "id": "a1ae77a1-5468-4a61-bad6-6a9a0d712b5d",
   "metadata": {},
   "outputs": [
    {
     "name": "stdout",
     "output_type": "stream",
     "text": [
      "Resolve hyper-parameter template \"benchmark_rank1\" to \"benchmark_rank1@v1\" -> {'growing_strategy': 'BEST_FIRST_GLOBAL', 'categorical_algorithm': 'RANDOM', 'split_axis': 'SPARSE_OBLIQUE', 'sparse_oblique_normalization': 'MIN_MAX', 'sparse_oblique_num_projections_exponent': 1.0}.\n"
     ]
    },
    {
     "name": "stderr",
     "output_type": "stream",
     "text": [
      "2024-12-11 06:24:57.504736: E external/local_xla/xla/stream_executor/cuda/cuda_driver.cc:152] failed call to cuInit: INTERNAL: CUDA error: Failed call to cuInit: UNKNOWN ERROR (303)\n"
     ]
    },
    {
     "name": "stdout",
     "output_type": "stream",
     "text": [
      "Use /tmp/tmp80ckeyim as temporary training directory\n"
     ]
    },
    {
     "name": "stderr",
     "output_type": "stream",
     "text": [
      "2024-12-11 06:24:57.966448: W external/ydf/yggdrasil_decision_forests/learner/gradient_boosted_trees/gradient_boosted_trees.cc:1840] \"goss_alpha\" set but \"sampling_method\" not equal to \"GOSS\".\n",
      "2024-12-11 06:24:57.966500: W external/ydf/yggdrasil_decision_forests/learner/gradient_boosted_trees/gradient_boosted_trees.cc:1850] \"goss_beta\" set but \"sampling_method\" not equal to \"GOSS\".\n",
      "2024-12-11 06:24:57.966528: W external/ydf/yggdrasil_decision_forests/learner/gradient_boosted_trees/gradient_boosted_trees.cc:1864] \"selective_gradient_boosting_ratio\" set but \"sampling_method\" not equal to \"SELGB\".\n"
     ]
    }
   ],
   "source": [
    "rf = tfdf.keras.GradientBoostedTreesModel(hyperparameter_template=\"benchmark_rank1\")"
   ]
  },
  {
   "cell_type": "code",
   "execution_count": 43,
   "id": "dd1751bd-fe0b-4b3e-ac1b-807ab8e7771a",
   "metadata": {},
   "outputs": [],
   "source": [
    "VALID_USER_LIST = valid_x.index.unique()\n",
    "\n",
    "prediction_df = pd.DataFrame(data=np.zeros((len(VALID_USER_LIST),18)), index=VALID_USER_LIST)\n",
    "\n",
    "# Create an empty dictionary to store the models created for each question.\n",
    "models = {}\n",
    "\n",
    "# Create an empty dictionary to store the evaluation score for each question.\n",
    "evaluation_dict ={}"
   ]
  },
  {
   "cell_type": "code",
   "execution_count": 44,
   "id": "fa2fb8b8-3914-4f57-a386-c0c6a92f7e44",
   "metadata": {},
   "outputs": [
    {
     "name": "stdout",
     "output_type": "stream",
     "text": [
      "### q_no 1 grp 0-4\n",
      "Warning: Some of the feature names have been changed automatically to be compatible with SavedModels because fix_feature_names=True.\n"
     ]
    },
    {
     "name": "stderr",
     "output_type": "stream",
     "text": [
      "/tmp/ipykernel_9845/1221147862.py:21: SettingWithCopyWarning: \n",
      "A value is trying to be set on a copy of a slice from a DataFrame.\n",
      "Try using .loc[row_indexer,col_indexer] = value instead\n",
      "\n",
      "See the caveats in the documentation: https://pandas.pydata.org/pandas-docs/stable/user_guide/indexing.html#returning-a-view-versus-a-copy\n",
      "  train_df[\"correct\"] = train_labels[\"correct\"]\n",
      "/tmp/ipykernel_9845/1221147862.py:22: SettingWithCopyWarning: \n",
      "A value is trying to be set on a copy of a slice from a DataFrame.\n",
      "Try using .loc[row_indexer,col_indexer] = value instead\n",
      "\n",
      "See the caveats in the documentation: https://pandas.pydata.org/pandas-docs/stable/user_guide/indexing.html#returning-a-view-versus-a-copy\n",
      "  valid_df[\"correct\"] = valid_labels[\"correct\"]\n",
      "WARNING:absl:Some of the feature names have been changed automatically to be compatible with SavedModels because fix_feature_names=True.\n"
     ]
    },
    {
     "ename": "AttributeError",
     "evalue": "'DataFrame' object has no attribute 'dtype'",
     "output_type": "error",
     "traceback": [
      "\u001b[0;31m---------------------------------------------------------------------------\u001b[0m",
      "\u001b[0;31mAttributeError\u001b[0m                            Traceback (most recent call last)",
      "\u001b[0;32m/tmp/ipykernel_9845/1221147862.py\u001b[0m in \u001b[0;36m?\u001b[0;34m()\u001b[0m\n\u001b[1;32m     19\u001b[0m \u001b[0;34m\u001b[0m\u001b[0m\n\u001b[1;32m     20\u001b[0m     \u001b[0;31m# Add the label to the filtered datasets.\u001b[0m\u001b[0;34m\u001b[0m\u001b[0;34m\u001b[0m\u001b[0m\n\u001b[1;32m     21\u001b[0m     \u001b[0mtrain_df\u001b[0m\u001b[0;34m[\u001b[0m\u001b[0;34m\"correct\"\u001b[0m\u001b[0;34m]\u001b[0m \u001b[0;34m=\u001b[0m \u001b[0mtrain_labels\u001b[0m\u001b[0;34m[\u001b[0m\u001b[0;34m\"correct\"\u001b[0m\u001b[0;34m]\u001b[0m\u001b[0;34m\u001b[0m\u001b[0;34m\u001b[0m\u001b[0m\n\u001b[1;32m     22\u001b[0m     \u001b[0mvalid_df\u001b[0m\u001b[0;34m[\u001b[0m\u001b[0;34m\"correct\"\u001b[0m\u001b[0;34m]\u001b[0m \u001b[0;34m=\u001b[0m \u001b[0mvalid_labels\u001b[0m\u001b[0;34m[\u001b[0m\u001b[0;34m\"correct\"\u001b[0m\u001b[0;34m]\u001b[0m\u001b[0;34m\u001b[0m\u001b[0;34m\u001b[0m\u001b[0m\n\u001b[0;32m---> 23\u001b[0;31m     \u001b[0mtrain_ds\u001b[0m \u001b[0;34m=\u001b[0m \u001b[0mtfdf\u001b[0m\u001b[0;34m.\u001b[0m\u001b[0mkeras\u001b[0m\u001b[0;34m.\u001b[0m\u001b[0mpd_dataframe_to_tf_dataset\u001b[0m\u001b[0;34m(\u001b[0m\u001b[0mtrain_df\u001b[0m\u001b[0;34m.\u001b[0m\u001b[0mloc\u001b[0m\u001b[0;34m[\u001b[0m\u001b[0;34m:\u001b[0m\u001b[0;34m,\u001b[0m \u001b[0mtrain_df\u001b[0m\u001b[0;34m.\u001b[0m\u001b[0mcolumns\u001b[0m \u001b[0;34m!=\u001b[0m \u001b[0;34m'level_group'\u001b[0m\u001b[0;34m]\u001b[0m\u001b[0;34m,\u001b[0m \u001b[0mlabel\u001b[0m\u001b[0;34m=\u001b[0m\u001b[0;34m\"correct\"\u001b[0m\u001b[0;34m)\u001b[0m\u001b[0;34m\u001b[0m\u001b[0;34m\u001b[0m\u001b[0m\n\u001b[0m\u001b[1;32m     24\u001b[0m     \u001b[0mvalid_ds\u001b[0m \u001b[0;34m=\u001b[0m \u001b[0mtfdf\u001b[0m\u001b[0;34m.\u001b[0m\u001b[0mkeras\u001b[0m\u001b[0;34m.\u001b[0m\u001b[0mpd_dataframe_to_tf_dataset\u001b[0m\u001b[0;34m(\u001b[0m\u001b[0mvalid_df\u001b[0m\u001b[0;34m.\u001b[0m\u001b[0mloc\u001b[0m\u001b[0;34m[\u001b[0m\u001b[0;34m:\u001b[0m\u001b[0;34m,\u001b[0m \u001b[0mvalid_df\u001b[0m\u001b[0;34m.\u001b[0m\u001b[0mcolumns\u001b[0m \u001b[0;34m!=\u001b[0m \u001b[0;34m'level_group'\u001b[0m\u001b[0;34m]\u001b[0m\u001b[0;34m,\u001b[0m \u001b[0mlabel\u001b[0m\u001b[0;34m=\u001b[0m\u001b[0;34m\"correct\"\u001b[0m\u001b[0;34m)\u001b[0m\u001b[0;34m\u001b[0m\u001b[0;34m\u001b[0m\u001b[0m\n\u001b[1;32m     25\u001b[0m \u001b[0;34m\u001b[0m\u001b[0m\n\u001b[1;32m     26\u001b[0m     \u001b[0;31m# We will now create the Gradient Boosted Trees Model with default settings.\u001b[0m\u001b[0;34m\u001b[0m\u001b[0;34m\u001b[0m\u001b[0m\n",
      "\u001b[0;32m~/.local/lib/python3.10/site-packages/tensorflow_decision_forests/keras/core_inference.py\u001b[0m in \u001b[0;36m?\u001b[0;34m(dataframe, label, task, max_num_classes, in_place, fix_feature_names, weight, batch_size)\u001b[0m\n\u001b[1;32m   1157\u001b[0m \u001b[0;34m\u001b[0m\u001b[0m\n\u001b[1;32m   1158\u001b[0m   \u001b[0;31m# Make sure that missing values for string columns are not represented as\u001b[0m\u001b[0;34m\u001b[0m\u001b[0;34m\u001b[0m\u001b[0m\n\u001b[1;32m   1159\u001b[0m   \u001b[0;31m# float(NaN).\u001b[0m\u001b[0;34m\u001b[0m\u001b[0;34m\u001b[0m\u001b[0m\n\u001b[1;32m   1160\u001b[0m   \u001b[0;32mfor\u001b[0m \u001b[0mcol\u001b[0m \u001b[0;32min\u001b[0m \u001b[0mdataframe\u001b[0m\u001b[0;34m.\u001b[0m\u001b[0mcolumns\u001b[0m\u001b[0;34m:\u001b[0m\u001b[0;34m\u001b[0m\u001b[0;34m\u001b[0m\u001b[0m\n\u001b[0;32m-> 1161\u001b[0;31m     \u001b[0;32mif\u001b[0m \u001b[0mdataframe\u001b[0m\u001b[0;34m[\u001b[0m\u001b[0mcol\u001b[0m\u001b[0;34m]\u001b[0m\u001b[0;34m.\u001b[0m\u001b[0mdtype\u001b[0m \u001b[0;32min\u001b[0m \u001b[0;34m[\u001b[0m\u001b[0mstr\u001b[0m\u001b[0;34m,\u001b[0m \u001b[0mobject\u001b[0m\u001b[0;34m]\u001b[0m\u001b[0;34m:\u001b[0m\u001b[0;34m\u001b[0m\u001b[0;34m\u001b[0m\u001b[0m\n\u001b[0m\u001b[1;32m   1162\u001b[0m       \u001b[0mdataframe\u001b[0m\u001b[0;34m[\u001b[0m\u001b[0mcol\u001b[0m\u001b[0;34m]\u001b[0m \u001b[0;34m=\u001b[0m \u001b[0mdataframe\u001b[0m\u001b[0;34m[\u001b[0m\u001b[0mcol\u001b[0m\u001b[0;34m]\u001b[0m\u001b[0;34m.\u001b[0m\u001b[0mfillna\u001b[0m\u001b[0;34m(\u001b[0m\u001b[0;34m\"\"\u001b[0m\u001b[0;34m)\u001b[0m\u001b[0;34m\u001b[0m\u001b[0;34m\u001b[0m\u001b[0m\n\u001b[1;32m   1163\u001b[0m \u001b[0;34m\u001b[0m\u001b[0m\n\u001b[1;32m   1164\u001b[0m   \u001b[0;32mif\u001b[0m \u001b[0mlabel\u001b[0m \u001b[0;32mis\u001b[0m \u001b[0;32mnot\u001b[0m \u001b[0;32mNone\u001b[0m\u001b[0;34m:\u001b[0m\u001b[0;34m\u001b[0m\u001b[0;34m\u001b[0m\u001b[0m\n",
      "\u001b[0;32m/usr/local/lib/python3.10/dist-packages/pandas/core/generic.py\u001b[0m in \u001b[0;36m?\u001b[0;34m(self, name)\u001b[0m\n\u001b[1;32m   6295\u001b[0m             \u001b[0;32mand\u001b[0m \u001b[0mname\u001b[0m \u001b[0;32mnot\u001b[0m \u001b[0;32min\u001b[0m \u001b[0mself\u001b[0m\u001b[0;34m.\u001b[0m\u001b[0m_accessors\u001b[0m\u001b[0;34m\u001b[0m\u001b[0;34m\u001b[0m\u001b[0m\n\u001b[1;32m   6296\u001b[0m             \u001b[0;32mand\u001b[0m \u001b[0mself\u001b[0m\u001b[0;34m.\u001b[0m\u001b[0m_info_axis\u001b[0m\u001b[0;34m.\u001b[0m\u001b[0m_can_hold_identifiers_and_holds_name\u001b[0m\u001b[0;34m(\u001b[0m\u001b[0mname\u001b[0m\u001b[0;34m)\u001b[0m\u001b[0;34m\u001b[0m\u001b[0;34m\u001b[0m\u001b[0m\n\u001b[1;32m   6297\u001b[0m         ):\n\u001b[1;32m   6298\u001b[0m             \u001b[0;32mreturn\u001b[0m \u001b[0mself\u001b[0m\u001b[0;34m[\u001b[0m\u001b[0mname\u001b[0m\u001b[0;34m]\u001b[0m\u001b[0;34m\u001b[0m\u001b[0;34m\u001b[0m\u001b[0m\n\u001b[0;32m-> 6299\u001b[0;31m         \u001b[0;32mreturn\u001b[0m \u001b[0mobject\u001b[0m\u001b[0;34m.\u001b[0m\u001b[0m__getattribute__\u001b[0m\u001b[0;34m(\u001b[0m\u001b[0mself\u001b[0m\u001b[0;34m,\u001b[0m \u001b[0mname\u001b[0m\u001b[0;34m)\u001b[0m\u001b[0;34m\u001b[0m\u001b[0;34m\u001b[0m\u001b[0m\n\u001b[0m",
      "\u001b[0;31mAttributeError\u001b[0m: 'DataFrame' object has no attribute 'dtype'"
     ]
    }
   ],
   "source": [
    "for q_no in range(1,19):\n",
    "\n",
    "    # Select level group for the question based on the q_no.\n",
    "    if q_no<=3: grp = '0-4'\n",
    "    elif q_no<=13: grp = '5-12'\n",
    "    elif q_no<=22: grp = '13-22'\n",
    "    print(\"### q_no\", q_no, \"grp\", grp)\n",
    "    \n",
    "        \n",
    "    # Filter the rows in the datasets based on the selected level group. \n",
    "    train_df = train_x.loc[train_x.level_group == grp]\n",
    "    train_users = train_df.index.values\n",
    "    valid_df = valid_x.loc[valid_x.level_group == grp]\n",
    "    valid_users = valid_df.index.values\n",
    "\n",
    "    # Select the labels for the related q_no.\n",
    "    train_labels = labels.loc[labels.q==q_no].set_index('session').loc[train_users]\n",
    "    valid_labels = labels.loc[labels.q==q_no].set_index('session').loc[valid_users]\n",
    "\n",
    "    # Add the label to the filtered datasets.\n",
    "    train_df[\"correct\"] = train_labels[\"correct\"]\n",
    "    valid_df[\"correct\"] = valid_labels[\"correct\"]\n",
    "    train_ds = tfdf.keras.pd_dataframe_to_tf_dataset(train_df.loc[:, train_df.columns != 'level_group'], label=\"correct\")\n",
    "    valid_ds = tfdf.keras.pd_dataframe_to_tf_dataset(valid_df.loc[:, valid_df.columns != 'level_group'], label=\"correct\")\n",
    "\n",
    "    # We will now create the Gradient Boosted Trees Model with default settings. \n",
    "    # By default the model is set to train for a classification task.\n",
    "    gbtm = tfdf.keras.GradientBoostedTreesModel(verbose=0)\n",
    "    gbtm.compile(metrics=[\"accuracy\"])\n",
    "\n",
    "    # Train the model.\n",
    "    gbtm.fit(x=train_ds)\n",
    "\n",
    "    # Store the model\n",
    "    models[f'{grp}_{q_no}'] = gbtm\n",
    "\n",
    "    # Evaluate the trained model on the validation dataset and store the \n",
    "    # evaluation accuracy in the `evaluation_dict`.\n",
    "    inspector = gbtm.make_inspector()\n",
    "    inspector.evaluation()\n",
    "    evaluation = gbtm.evaluate(x=valid_ds,return_dict=True)\n",
    "    evaluation_dict[q_no] = evaluation[\"accuracy\"]         \n",
    "\n",
    "    # Use the trained model to make predictions on the validation dataset and \n",
    "    # store the predicted values in the `prediction_df` dataframe.\n",
    "    predict = gbtm.predict(x=valid_ds)\n",
    "    prediction_df.loc[valid_users, q_no-1] = predict.flatten() "
   ]
  },
  {
   "cell_type": "code",
   "execution_count": null,
   "id": "3fab5a4d-a4ed-47dd-b963-cf28b03c5723",
   "metadata": {},
   "outputs": [],
   "source": [
    "for name, value in evaluation_dict.items():\n",
    "  print(f\"question {name}: accuracy {value:.4f}\")\n",
    "\n",
    "print(\"\\nAverage accuracy\", sum(evaluation_dict.values())/18)"
   ]
  }
 ],
 "metadata": {
  "kernelspec": {
   "display_name": "Python 3 (ipykernel)",
   "language": "python",
   "name": "python3"
  },
  "language_info": {
   "codemirror_mode": {
    "name": "ipython",
    "version": 3
   },
   "file_extension": ".py",
   "mimetype": "text/x-python",
   "name": "python",
   "nbconvert_exporter": "python",
   "pygments_lexer": "ipython3",
   "version": "3.10.12"
  }
 },
 "nbformat": 4,
 "nbformat_minor": 5
}
